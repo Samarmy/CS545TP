{
 "cells": [
  {
   "cell_type": "markdown",
   "metadata": {},
   "source": [
    "<h1>Project Proposal for CS545</h1>\n",
    "\n",
    "Sam Armstrong, Saloni Choudhary, Brandon Hua"
   ]
  },
  {
   "cell_type": "markdown",
   "metadata": {},
   "source": [
    "<h2>Introduction</h2>\n",
    "\n",
    "Your project may involve one or more than one of the following steps.\n",
    "\n",
    "    Download code from the net that implements an algorithm that was not covered in any of our assignments and apply it to data of interest to you. Analyze the results, in terms of training and testing accuracy, data samples for which the neural network output is incorrect, and displays of activities and/or weights in hidden units to help understand how the neural network is making its decisions.\n"
   ]
  },
  {
   "cell_type": "markdown",
   "metadata": {},
   "source": [
    "<h2>Methods</h2>\n",
    "\n",
    "Countless people have tried to predict where the stock will go to decide when and where to put their money. We believe that LSTM (Long Short-Term Memory), a recurrent neural network, can help us achieve that. The recurrent nature of the neural network is what makes it so interesting. LSTM is not a feedforward network but instead a feedback one.\n",
    "\n",
    "A recurrent neural network perform well while predicting if the relevant information needed is close to the place it's needed. Unfortunately, as the gap between the information needed for predicting and where it's needed increases it becomes really hard for recurrent neural networks to predict. The problem is knowns as \"long-term dependencies\". LSTM's are special kinds of recurrent neural network which can solve long-term dependencies problem.\n",
    "\n",
    "\n",
    "LSTM's have a cell, an input gate, output gate and forget gate. These gates regulate the state of the cell. The first step inlcudes for the network to decide how much of information is to be let in or thrown away which is decided by the \"forget-gate\" layer. It has a sigmoid funtion which gives a value from 0 - 1, 0 means to be thrown away. The LSTM then decides what information it wants to retain in the cell state which is done by the sigmoid function in the input gate. The sigmoid function decide whose value in cell needs to be updated, where tanh creates a layer of new candidate values. Now, with the new values we update the value of the cell state. Next comes in the decision of what to be shown in output. The output depends on the filtered cell state values and to make that decision, we run sigmoid function throught it to decide what needs to be output. Now, we place the cell state with tanh activation function and multiply it with output of sigmoid function to output only things we decided. \n",
    "\n",
    "This is how LSTM's work generally. In our project, we are trying to bring variations into it to seek better results.\n",
    "\n",
    "\n",
    "For the most part, we will be trying to implement code and ideas from these sources:\n",
    "\n",
    "    https://towardsdatascience.com/predicting-stock-price-with-lstm-13af86a74944\n",
    "    https://www.datacamp.com/community/tutorials/lstm-python-stock-market\n",
    "    https://blog.usejournal.com/stock-market-prediction-by-recurrent-neural-network-on-lstm-model-56de700bff68\n",
    "    https://www.ncbi.nlm.nih.gov/pmc/articles/PMC6377125/\n",
    "    https://towardsdatascience.com/aifortrading-2edd6fac689d\n",
    "    https://machinelearningmastery.com/how-to-develop-lstm-models-for-time-series-forecasting/\n",
    "\n",
    "\n",
    "We will also be comparing results from univariate and multivariate data to see if we can clearly define one as superior to another\n",
    "\n",
    "We will complete this by having weekly meetings where we will work and discuss the following:\n",
    "\n",
    "    1. Say what we did that week\n",
    "    2. Where we will plan to be by the next week\n",
    "    3. How can we help each other.\n",
    "    \n",
    "For the initial setup, this is how the work is divided between the team mates.\n",
    "\n",
    "Sam's Work. \n",
    "1. Get data and filter and partition data\n",
    "2. Comparing models/results\n",
    "\n",
    "Saloni's Work. \n",
    "1. LSTM univariate\n",
    "2. LSTM regularization univariate\n",
    "\n",
    "Brandon's Work. \n",
    "1. LSTM multivariate\n",
    "2. LSTM regularization multivariate"
   ]
  },
  {
   "cell_type": "markdown",
   "metadata": {},
   "source": [
    "<h2>Possible Results</h2>\n",
    "\n",
    "We will run our data with all the models, compare their results and make observations about how and why they perform better or worse.\n",
    "\n",
    "We will also mention all the measures we took to refine our code to get better results."
   ]
  },
  {
   "cell_type": "markdown",
   "metadata": {},
   "source": [
    "<h2>Timeline</h2>\n",
    "\n",
    "Make a list with at least four entries with dates and describe what each team member will accomplish by these dates. This is for your use. Your grade will not depend on meeting these deadlines.\n",
    "\n",
    "| Date | Sam | Saloni | Brandon |\n",
    "| --- | --- | --- | --- |\n",
    "| 10/21/19 | Get Data ready | Setup LSTM Univariate Model | Setup LSTM Multivariate Model |\n",
    "| 10/28/19 | Write data partition scripts | Fine tune Univariate Model | Fine tune Multivariate Model |\n",
    "| 11/4/19 | Assist/Compare Models | Setup LSTM Univariate Model's Regularization | Setup LSTM Multivariate Model's Regularization |\n",
    "| 11/11/19 | Finalize Results | Fine tune Univariate Model with Regularization | Fine tune Multivariate Model with Regularization |\n",
    "| 11/18/19 | Project Due |"
   ]
  },
  {
   "cell_type": "code",
   "execution_count": null,
   "metadata": {},
   "outputs": [],
   "source": []
  }
 ],
 "metadata": {
  "kernelspec": {
   "display_name": "Python 3",
   "language": "python",
   "name": "python3"
  },
  "language_info": {
   "codemirror_mode": {
    "name": "ipython",
    "version": 3
   },
   "file_extension": ".py",
   "mimetype": "text/x-python",
   "name": "python",
   "nbconvert_exporter": "python",
   "pygments_lexer": "ipython3",
   "version": "3.7.4"
  }
 },
 "nbformat": 4,
 "nbformat_minor": 2
}
