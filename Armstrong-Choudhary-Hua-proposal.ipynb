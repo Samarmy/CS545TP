{
 "cells": [
  {
   "cell_type": "markdown",
   "metadata": {},
   "source": [
    "<h1>Project Proposal for CS545</h1>\n",
    "\n",
    "Sam Armstrong, Saloni Choudhary, Brandon Hua"
   ]
  },
  {
   "cell_type": "markdown",
   "metadata": {},
   "source": [
    "<h2>Introduction</h2>\n",
    "\n",
    "Your project may involve one or more than one of the following steps.\n",
    "\n",
    "    Download code from the net that implements an algorithm that was not covered in any of our assignments and apply it to data of interest to you. Analyze the results, in terms of training and testing accuracy, data samples for which the neural network output is incorrect, and displays of activities and/or weights in hidden units to help understand how the neural network is making its decisions.\n"
   ]
  },
  {
   "cell_type": "markdown",
   "metadata": {},
   "source": [
    "<h2>Methods</h2>\n",
    "\n",
    "Explain why you wish to do the proposed project and the steps you will take to complete the project. Describe the methods you will use. What are the sources of code or data? Will you define new algorithms and/or implementations, or download ones from an on-line source?\n",
    "\n",
    "You will work with at least two classmates of your choosing for your project. In this proposal, define how the work on the project will be divided among the team members. It is not sufficient to just state that all team members will be working together.\n",
    "\n",
    "Sam's Work. \n",
    "1. Get data and filter and partition data\n",
    "2. Comparing models/results\n",
    "\n",
    "Saloni's Work. \n",
    "1. lstm univariate\n",
    "2. lstm regularization univariate\n",
    "\n",
    "Brandon's Work. \n",
    "1. lstm multivariate\n",
    "2. lstm regularization multivariate"
   ]
  },
  {
   "cell_type": "markdown",
   "metadata": {},
   "source": [
    "<h2>Possible Results</h2>\n",
    "\n",
    "One of the model's performs better. Comparing "
   ]
  },
  {
   "cell_type": "markdown",
   "metadata": {},
   "source": [
    "<h2>Timeline</h2>\n",
    "\n",
    "Make a list with at least four entries with dates and describe what each team member will accomplish by these dates. This is for your use. Your grade will not depend on meeting these deadlines.\n",
    "\n",
    "| Date | Sam | Saloni | Brandon |\n",
    "| --- | --- | --- | --- |\n",
    "| 10/21/19 | Get Data ready | Setup LSTM Univariate Model | Setup LSTM Multivariate Model |\n",
    "| 10/28/19 | Write data partition scripts | Fine tune Univariate Model | Fine tune Multivariate Model |\n",
    "| 11/4/19 | Assist/Compare Models | Setup LSTM Univariate Model's Regularization | Setup LSTM Multivariate Model's Regularization |\n",
    "| 11/11/19 | Finalize Results | Fine tune Univariate Model with Regularization | Fine tune Multivariate Model with Regularization |\n",
    "| 11/18/19 | Project Due |"
   ]
  },
  {
   "cell_type": "code",
   "execution_count": null,
   "metadata": {},
   "outputs": [],
   "source": []
  }
 ],
 "metadata": {
  "kernelspec": {
   "display_name": "Python 3",
   "language": "python",
   "name": "python3"
  },
  "language_info": {
   "codemirror_mode": {
    "name": "ipython",
    "version": 3
   },
   "file_extension": ".py",
   "mimetype": "text/x-python",
   "name": "python",
   "nbconvert_exporter": "python",
   "pygments_lexer": "ipython3",
   "version": "3.7.4"
  }
 },
 "nbformat": 4,
 "nbformat_minor": 2
}
