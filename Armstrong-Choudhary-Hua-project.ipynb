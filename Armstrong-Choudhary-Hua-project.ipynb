{
 "cells": [
  {
   "cell_type": "markdown",
   "metadata": {},
   "source": [
    "# Project for CS545\n",
    "\n",
    "Sam Armstrong, Saloni Choudhary, Brandon Hua"
   ]
  },
  {
   "cell_type": "code",
   "execution_count": 273,
   "metadata": {},
   "outputs": [],
   "source": [
    "import pandas as pd\n",
    "import datetime\n",
    "# univariate stacked lstm example\n",
    "# from numpy import array\n",
    "import numpy as np\n",
    "import tensorflow\n",
    "from tensorflow.keras.models import Sequential\n",
    "from tensorflow.keras.layers import LSTM\n",
    "from tensorflow.keras.layers import Dense\n",
    "from tensorflow.keras.layers import Dropout\n",
    "from sklearn.preprocessing import MinMaxScaler\n",
    "from matplotlib import pyplot as plt"
   ]
  },
  {
   "cell_type": "markdown",
   "metadata": {},
   "source": [
    "## Get Data\n"
   ]
  },
  {
   "cell_type": "code",
   "execution_count": 274,
   "metadata": {},
   "outputs": [],
   "source": [
    "# Run these pip3 installs once to install yahoo finance libraries\n",
    "# !pip3 install yahoo-finance --user\n",
    "# !pip3 install yfinance --user --upgrade --no-cache-dir\n",
    "\n",
    "import yfinance as yf\n",
    "# Documentation at https://pypi.org/project/yfinance/"
   ]
  },
  {
   "cell_type": "code",
   "execution_count": 275,
   "metadata": {
    "scrolled": true
   },
   "outputs": [
    {
     "name": "stdout",
     "output_type": "stream",
     "text": [
      "[*********************100%***********************]  29 of 29 downloaded\n"
     ]
    },
    {
     "data": {
      "text/html": [
       "<div>\n",
       "<style scoped>\n",
       "    .dataframe tbody tr th:only-of-type {\n",
       "        vertical-align: middle;\n",
       "    }\n",
       "\n",
       "    .dataframe tbody tr th {\n",
       "        vertical-align: top;\n",
       "    }\n",
       "\n",
       "    .dataframe thead th {\n",
       "        text-align: right;\n",
       "    }\n",
       "</style>\n",
       "<table border=\"1\" class=\"dataframe\">\n",
       "  <thead>\n",
       "    <tr style=\"text-align: right;\">\n",
       "      <th></th>\n",
       "      <th>Adj Close AAPL</th>\n",
       "      <th>Adj Close AXP</th>\n",
       "      <th>Adj Close BA</th>\n",
       "      <th>Adj Close CAT</th>\n",
       "      <th>Adj Close CSCO</th>\n",
       "      <th>Adj Close CVX</th>\n",
       "      <th>Adj Close DIS</th>\n",
       "      <th>Adj Close GE</th>\n",
       "      <th>Adj Close GS</th>\n",
       "      <th>Adj Close HD</th>\n",
       "      <th>...</th>\n",
       "      <th>Volume NKE</th>\n",
       "      <th>Volume PFE</th>\n",
       "      <th>Volume PG</th>\n",
       "      <th>Volume TRV</th>\n",
       "      <th>Volume UNH</th>\n",
       "      <th>Volume UTX</th>\n",
       "      <th>Volume V</th>\n",
       "      <th>Volume VZ</th>\n",
       "      <th>Volume WMT</th>\n",
       "      <th>Volume XOM</th>\n",
       "    </tr>\n",
       "    <tr>\n",
       "      <th>Date</th>\n",
       "      <th></th>\n",
       "      <th></th>\n",
       "      <th></th>\n",
       "      <th></th>\n",
       "      <th></th>\n",
       "      <th></th>\n",
       "      <th></th>\n",
       "      <th></th>\n",
       "      <th></th>\n",
       "      <th></th>\n",
       "      <th></th>\n",
       "      <th></th>\n",
       "      <th></th>\n",
       "      <th></th>\n",
       "      <th></th>\n",
       "      <th></th>\n",
       "      <th></th>\n",
       "      <th></th>\n",
       "      <th></th>\n",
       "      <th></th>\n",
       "      <th></th>\n",
       "    </tr>\n",
       "  </thead>\n",
       "  <tbody>\n",
       "    <tr>\n",
       "      <th>2016-01-18</th>\n",
       "      <td>NaN</td>\n",
       "      <td>NaN</td>\n",
       "      <td>NaN</td>\n",
       "      <td>NaN</td>\n",
       "      <td>NaN</td>\n",
       "      <td>NaN</td>\n",
       "      <td>NaN</td>\n",
       "      <td>NaN</td>\n",
       "      <td>NaN</td>\n",
       "      <td>NaN</td>\n",
       "      <td>...</td>\n",
       "      <td>NaN</td>\n",
       "      <td>NaN</td>\n",
       "      <td>NaN</td>\n",
       "      <td>NaN</td>\n",
       "      <td>NaN</td>\n",
       "      <td>NaN</td>\n",
       "      <td>NaN</td>\n",
       "      <td>NaN</td>\n",
       "      <td>NaN</td>\n",
       "      <td>NaN</td>\n",
       "    </tr>\n",
       "  </tbody>\n",
       "</table>\n",
       "<p>1 rows × 174 columns</p>\n",
       "</div>"
      ],
      "text/plain": [
       "            Adj Close AAPL  Adj Close AXP  Adj Close BA  Adj Close CAT  \\\n",
       "Date                                                                     \n",
       "2016-01-18             NaN            NaN           NaN            NaN   \n",
       "\n",
       "            Adj Close CSCO  Adj Close CVX  Adj Close DIS  Adj Close GE  \\\n",
       "Date                                                                     \n",
       "2016-01-18             NaN            NaN            NaN           NaN   \n",
       "\n",
       "            Adj Close GS  Adj Close HD  ...  Volume NKE  Volume PFE  \\\n",
       "Date                                    ...                           \n",
       "2016-01-18           NaN           NaN  ...         NaN         NaN   \n",
       "\n",
       "            Volume PG  Volume TRV  Volume UNH  Volume UTX  Volume V  \\\n",
       "Date                                                                  \n",
       "2016-01-18        NaN         NaN         NaN         NaN       NaN   \n",
       "\n",
       "            Volume VZ  Volume WMT  Volume XOM  \n",
       "Date                                           \n",
       "2016-01-18        NaN         NaN         NaN  \n",
       "\n",
       "[1 rows x 174 columns]"
      ]
     },
     "execution_count": 275,
     "metadata": {},
     "output_type": "execute_result"
    }
   ],
   "source": [
    "tickers = 'mmm axp aapl ba cat cvx csco ko dis xom ge gs hd ibm intc jnj jpm mcd mrk msft nke pfe pg trv utx unh vz v wmt'\n",
    "# exclude dwdp because it's historical data only goes back 1 year\n",
    "period = '5y'\n",
    "\n",
    "data = yf.download(tickers, period=period)\n",
    "data.columns = ['%s%s' % (a, ' %s' % b if b else '') for a, b in data.columns]\n",
    "data[data.isna().any(axis=1)] #Display rows with Null values"
   ]
  },
  {
   "cell_type": "code",
   "execution_count": 276,
   "metadata": {},
   "outputs": [
    {
     "data": {
      "text/plain": [
       "(1259, 174)"
      ]
     },
     "execution_count": 276,
     "metadata": {},
     "output_type": "execute_result"
    }
   ],
   "source": [
    "data = data.drop([datetime.datetime(2016, 1, 18)])\n",
    "data.shape"
   ]
  },
  {
   "cell_type": "markdown",
   "metadata": {},
   "source": [
    "## Data\n",
    "\n",
    "The data comprises of 29 stocks [mmm axp aapl ba cat cvx csco ko dis xom ge gs hd ibm intc jnj jpm mcd mrk msft nke pfe pg trv utx unh vz v wmt] over a 5 year period (end date is current date) with 252 days in a year (except 2016 whichis missing the date 2016-01-18). Each date entry has 6 variables [Adjusted Close, Close, High, Low, Open, Volume]. We are trying to predict the next day's Close. "
   ]
  },
  {
   "cell_type": "code",
   "execution_count": 277,
   "metadata": {},
   "outputs": [],
   "source": [
    "MMM = data[['Adj Close MMM', 'Close MMM', 'High MMM', 'Low MMM', 'Open MMM', 'Volume MMM']]\n",
    "MMM.columns = ['Adj Close', 'Close', 'High', 'Low', 'Open', 'Volume']\n",
    "\n",
    "AAPL = data[['Adj Close AAPL', 'Close AAPL', 'High AAPL', 'Low AAPL', 'Open AAPL', 'Volume AAPL']]\n",
    "AAPL.columns = ['Adj Close', 'Close', 'High', 'Low', 'Open', 'Volume']\n",
    "AXP = data[['Adj Close AXP', 'Close AXP', 'High AXP', 'Low AXP', 'Open AXP', 'Volume AXP']]\n",
    "AXP.columns = ['Adj Close', 'Close', 'High', 'Low', 'Open', 'Volume']\n",
    "BA = data[['Adj Close BA', 'Close BA', 'High BA', 'Low BA', 'Open BA', 'Volume BA']]\n",
    "BA.columns = ['Adj Close', 'Close', 'High', 'Low', 'Open', 'Volume']\n",
    "CAT = data[['Adj Close CAT', 'Close CAT', 'High CAT', 'Low CAT', 'Open CAT', 'Volume CAT']]\n",
    "CAT.columns = ['Adj Close', 'Close', 'High', 'Low', 'Open', 'Volume']\n",
    "CVX = data[['Adj Close CVX', 'Close CVX', 'High CVX', 'Low CVX', 'Open CVX', 'Volume CVX']]\n",
    "CVX.columns = ['Adj Close', 'Close', 'High', 'Low', 'Open', 'Volume']\n",
    "CSCO = data[['Adj Close CSCO', 'Close CSCO', 'High CSCO', 'Low CSCO', 'Open CSCO', 'Volume CSCO']]\n",
    "CSCO.columns = ['Adj Close', 'Close', 'High', 'Low', 'Open', 'Volume']\n",
    "KO = data[['Adj Close KO', 'Close KO', 'High KO', 'Low KO', 'Open KO', 'Volume KO']]\n",
    "KO.columns = ['Adj Close', 'Close', 'High', 'Low', 'Open', 'Volume']\n",
    "DIS = data[['Adj Close DIS', 'Close DIS', 'High DIS', 'Low DIS', 'Open DIS', 'Volume DIS']]\n",
    "DIS.columns = ['Adj Close', 'Close', 'High', 'Low', 'Open', 'Volume']\n",
    "XOM = data[['Adj Close XOM', 'Close XOM', 'High XOM', 'Low XOM', 'Open XOM', 'Volume XOM']]\n",
    "XOM.columns = ['Adj Close', 'Close', 'High', 'Low', 'Open', 'Volume']\n",
    "GE = data[['Adj Close GE', 'Close GE', 'High GE', 'Low GE', 'Open GE', 'Volume GE']]\n",
    "GE.columns = ['Adj Close', 'Close', 'High', 'Low', 'Open', 'Volume']\n",
    "GS = data[['Adj Close GS', 'Close GS', 'High GS', 'Low GS', 'Open GS', 'Volume GS']]\n",
    "GS.columns = ['Adj Close', 'Close', 'High', 'Low', 'Open', 'Volume']\n",
    "HD = data[['Adj Close HD', 'Close HD', 'High HD', 'Low HD', 'Open HD', 'Volume HD']]\n",
    "HD.columns = ['Adj Close', 'Close', 'High', 'Low', 'Open', 'Volume']\n",
    "IBM = data[['Adj Close IBM', 'Close IBM', 'High AAPL', 'Low IBM', 'Open IBM', 'Volume IBM']]\n",
    "IBM.columns = ['Adj Close', 'Close', 'High', 'Low', 'Open', 'Volume']\n",
    "INTC = data[['Adj Close INTC', 'Close INTC', 'High INTC', 'Low INTC', 'Open INTC', 'Volume INTC']]\n",
    "INTC.columns = ['Adj Close', 'Close', 'High', 'Low', 'Open', 'Volume']\n",
    "JNJ = data[['Adj Close JNJ', 'Close JNJ', 'High JNJ', 'Low JNJ', 'Open JNJ', 'Volume JNJ']]\n",
    "JNJ.columns = ['Adj Close', 'Close', 'High', 'Low', 'Open', 'Volume']\n",
    "JPM = data[['Adj Close JPM', 'Close JPM', 'High JPM', 'Low JPM', 'Open JPM', 'Volume JPM']]\n",
    "JPM.columns = ['Adj Close', 'Close', 'High', 'Low', 'Open', 'Volume']\n",
    "MCD = data[['Adj Close MCD', 'Close MCD', 'High MCD', 'Low MCD', 'Open MCD', 'Volume MCD']]\n",
    "MCD.columns = ['Adj Close', 'Close', 'High', 'Low', 'Open', 'Volume']\n",
    "MRK = data[['Adj Close MRK', 'Close MRK', 'High MRK', 'Low MRK', 'Open MRK', 'Volume MRK']]\n",
    "MRK.columns = ['Adj Close', 'Close', 'High', 'Low', 'Open', 'Volume']\n",
    "MSFT = data[['Adj Close MSFT', 'Close MSFT', 'High MSFT', 'Low MSFT', 'Open MSFT', 'Volume MSFT']]\n",
    "MSFT.columns = ['Adj Close', 'Close', 'High', 'Low', 'Open', 'Volume']\n",
    "NKE = data[['Adj Close NKE', 'Close NKE', 'High NKE', 'Low NKE', 'Open NKE', 'Volume NKE']]\n",
    "NKE.columns = ['Adj Close', 'Close', 'High', 'Low', 'Open', 'Volume']\n",
    "PFE = data[['Adj Close PFE', 'Close PFE', 'High PFE', 'Low PFE', 'Open PFE', 'Volume PFE']]\n",
    "PFE.columns = ['Adj Close', 'Close', 'High', 'Low', 'Open', 'Volume']\n",
    "PG = data[['Adj Close PG', 'Close PG', 'High PG', 'Low PG', 'Open PG', 'Volume PG']]\n",
    "PG.columns = ['Adj Close', 'Close', 'High', 'Low', 'Open', 'Volume']\n",
    "TRV = data[['Adj Close TRV', 'Close TRV', 'High TRV', 'Low TRV', 'Open TRV', 'Volume TRV']]\n",
    "TRV.columns = ['Adj Close', 'Close', 'High', 'Low', 'Open', 'Volume']\n",
    "UTX = data[['Adj Close UTX', 'Close UTX', 'High UTX', 'Low UTX', 'Open UTX', 'Volume UTX']]\n",
    "UTX.columns = ['Adj Close', 'Close', 'High', 'Low', 'Open', 'Volume']\n",
    "UNH = data[['Adj Close UNH', 'Close UNH', 'High UNH', 'Low UNH', 'Open UNH', 'Volume UNH']]\n",
    "UNH.columns = ['Adj Close', 'Close', 'High', 'Low', 'Open', 'Volume']\n",
    "VZ = data[['Adj Close VZ', 'Close VZ', 'High VZ', 'Low VZ', 'Open VZ', 'Volume VZ']]\n",
    "VZ.columns = ['Adj Close', 'Close', 'High', 'Low', 'Open', 'Volume']\n",
    "V = data[['Adj Close V', 'Close V', 'High V', 'Low V', 'Open V', 'Volume V']]\n",
    "V.columns = ['Adj Close', 'Close', 'High', 'Low', 'Open', 'Volume']\n",
    "WMT = data[['Adj Close WMT', 'Close WMT', 'High WMT', 'Low WMT', 'Open WMT', 'Volume WMT']]\n",
    "WMT.columns = ['Adj Close', 'Close', 'High', 'Low', 'Open', 'Volume']"
   ]
  },
  {
   "cell_type": "code",
   "execution_count": 278,
   "metadata": {
    "scrolled": true
   },
   "outputs": [
    {
     "data": {
      "text/plain": [
       "<matplotlib.axes._subplots.AxesSubplot at 0x7fb1982721d0>"
      ]
     },
     "execution_count": 278,
     "metadata": {},
     "output_type": "execute_result"
    },
    {
     "data": {
      "image/png": "[encoded data removed]",
      "text/plain": [
       "<Figure size 1152x432 with 1 Axes>"
      ]
     },
     "metadata": {
      "needs_background": "light"
     },
     "output_type": "display_data"
    }
   ],
   "source": [
    "MMM['Close'].plot(figsize=(16,6))"
   ]
  },
  {
   "cell_type": "code",
   "execution_count": 279,
   "metadata": {},
   "outputs": [],
   "source": [
    "look_back = 60"
   ]
  },
  {
   "cell_type": "code",
   "execution_count": 280,
   "metadata": {},
   "outputs": [],
   "source": [
    "univariate_seq = MMM['Close']\n",
    "train_percent = .8\n",
    "n_train = int(train_percent * len(univariate_seq))\n",
    "training_set = univariate_seq[:n_train]\n",
    "training_set=pd.DataFrame(training_set)\n",
    "testing_set = univariate_seq[n_train - look_back:]\n",
    "testing_set=pd.DataFrame(testing_set)"
   ]
  },
  {
   "cell_type": "code",
   "execution_count": 281,
   "metadata": {},
   "outputs": [],
   "source": [
    "# Feature Scaling\n",
    "sc = MinMaxScaler(feature_range = (0, 1))\n",
    "training_set_scaled = sc.fit_transform(training_set)"
   ]
  },
  {
   "cell_type": "code",
   "execution_count": 282,
   "metadata": {},
   "outputs": [],
   "source": [
    "X_train = []\n",
    "y_train = []\n",
    "for i in range(look_back, training_set_scaled.shape[0]):\n",
    "    X_train.append(training_set_scaled[i-look_back:i, 0])\n",
    "    y_train.append(training_set_scaled[i, 0])\n",
    "X_train, y_train = np.array(X_train), np.array(y_train)\n",
    "\n",
    "# Reshaping\n",
    "X_train = np.reshape(X_train, (X_train.shape[0], X_train.shape[1], 1))"
   ]
  },
  {
   "cell_type": "code",
   "execution_count": 283,
   "metadata": {},
   "outputs": [],
   "source": [
    "univariate_seq = MMM[['Close']].to_numpy().reshape(-1)\n",
    "train_percent = .8\n",
    "n_train = int(train_percent * len(univariate_seq))\n",
    "\n",
    "univariate_seq_train = univariate_seq[:n_train]\n",
    "univariate_seq_test = univariate_seq[n_train:]"
   ]
  },
  {
   "cell_type": "code",
   "execution_count": 284,
   "metadata": {},
   "outputs": [],
   "source": [
    "# Initialising the RNN\n",
    "regressor = Sequential()\n",
    "\n",
    "# Adding the first LSTM layer and some Dropout regularisation\n",
    "regressor.add(LSTM(units = 50, return_sequences = True, input_shape = (X_train.shape[1], 1)))\n",
    "regressor.add(Dropout(0.2))\n",
    "\n",
    "# Adding a second LSTM layer and some Dropout regularisation\n",
    "regressor.add(LSTM(units = 50, return_sequences = True))\n",
    "regressor.add(Dropout(0.2))\n",
    "\n",
    "# Adding a third LSTM layer and some Dropout regularisation\n",
    "regressor.add(LSTM(units = 50, return_sequences = True))\n",
    "regressor.add(Dropout(0.2))\n",
    "\n",
    "# Adding a fourth LSTM layer and some Dropout regularisation\n",
    "regressor.add(LSTM(units = 50))\n",
    "regressor.add(Dropout(0.2))\n",
    "\n",
    "# Adding the output layer\n",
    "regressor.add(Dense(units = 1))"
   ]
  },
  {
   "cell_type": "code",
   "execution_count": 285,
   "metadata": {},
   "outputs": [
    {
     "name": "stdout",
     "output_type": "stream",
     "text": [
      "Train on 947 samples\n",
      "Epoch 1/10\n",
      "947/947 [==============================] - 15s 16ms/sample - loss: 0.0380\n",
      "Epoch 2/10\n",
      "947/947 [==============================] - 7s 8ms/sample - loss: 0.0066\n",
      "Epoch 3/10\n",
      "947/947 [==============================] - 7s 8ms/sample - loss: 0.0058\n",
      "Epoch 4/10\n",
      "947/947 [==============================] - 7s 7ms/sample - loss: 0.0055\n",
      "Epoch 5/10\n",
      "947/947 [==============================] - 8s 8ms/sample - loss: 0.0055\n",
      "Epoch 6/10\n",
      "947/947 [==============================] - 7s 7ms/sample - loss: 0.0048\n",
      "Epoch 7/10\n",
      "947/947 [==============================] - 6s 7ms/sample - loss: 0.0044\n",
      "Epoch 8/10\n",
      "947/947 [==============================] - 7s 7ms/sample - loss: 0.0041\n",
      "Epoch 9/10\n",
      "947/947 [==============================] - 7s 7ms/sample - loss: 0.0040\n",
      "Epoch 10/10\n",
      "947/947 [==============================] - 6s 7ms/sample - loss: 0.0055\n"
     ]
    },
    {
     "data": {
      "text/plain": [
       "<tensorflow.python.keras.callbacks.History at 0x7fb1975fddd8>"
      ]
     },
     "execution_count": 285,
     "metadata": {},
     "output_type": "execute_result"
    }
   ],
   "source": [
    "# Compiling the RNN\n",
    "regressor.compile(optimizer = 'adam', loss = 'mean_squared_error')\n",
    "\n",
    "# Fitting the RNN to the Training set\n",
    "regressor.fit(X_train, y_train, epochs = 10, batch_size = 32)"
   ]
  },
  {
   "cell_type": "code",
   "execution_count": 286,
   "metadata": {},
   "outputs": [],
   "source": [
    "testing_set_scaled = sc.transform(testing_set.to_numpy().reshape(-1, 1))\n",
    "X_test = []\n",
    "for i in range(look_back, testing_set_scaled.shape[0]):\n",
    "    X_test.append(testing_set_scaled[i-look_back:i, 0])\n",
    "X_test = np.array(X_test)\n",
    "X_test = np.reshape(X_test, (X_test.shape[0], X_test.shape[1], 1))\n",
    "predicted_stock_price = regressor.predict(X_test)\n",
    "predicted_stock_price = sc.inverse_transform(predicted_stock_price)\n",
    "predicted_stock_price = pd.DataFrame(predicted_stock_price)"
   ]
  },
  {
   "cell_type": "code",
   "execution_count": 287,
   "metadata": {},
   "outputs": [
    {
     "data": {
      "image/png": "[encoded data removed]",
      "text/plain": [
       "<Figure size 432x288 with 1 Axes>"
      ]
     },
     "metadata": {
      "needs_background": "light"
     },
     "output_type": "display_data"
    }
   ],
   "source": [
    "predicted_stock_price.index = testing_set[look_back:].index\n",
    "plt.plot(predicted_stock_price)\n",
    "plt.plot(testing_set[look_back:])\n",
    "plt.show()"
   ]
  }
 ],
 "metadata": {
  "kernelspec": {
   "display_name": "Python 3",
   "language": "python",
   "name": "python3"
  },
  "language_info": {
   "codemirror_mode": {
    "name": "ipython",
    "version": 3
   },
   "file_extension": ".py",
   "mimetype": "text/x-python",
   "name": "python",
   "nbconvert_exporter": "python",
   "pygments_lexer": "ipython3",
   "version": "3.7.3"
  }
 },
 "nbformat": 4,
 "nbformat_minor": 2
}
