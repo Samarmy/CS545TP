{
 "cells": [
  {
   "cell_type": "markdown",
   "metadata": {},
   "source": [
    "# Project for CS545\n",
    "\n",
    "Sam Armstrong, Saloni Choudhary, Brandon Hua"
   ]
  },
  {
   "cell_type": "code",
   "execution_count": 1,
   "metadata": {},
   "outputs": [],
   "source": [
    "import pandas as pd\n",
    "import datetime\n",
    "# univariate stacked lstm example\n",
    "# from numpy import array\n",
    "import numpy as np\n",
    "import tensorflow\n",
    "from tensorflow.keras.models import Sequential\n",
    "from tensorflow.keras.layers import LSTM\n",
    "from tensorflow.keras.layers import Dense\n",
    "from tensorflow.keras.layers import Dropout\n",
    "from tensorflow.keras.regularizers import l1, l2, l1_l2\n",
    "from sklearn.preprocessing import MinMaxScaler\n",
    "from matplotlib import pyplot as plt"
   ]
  },
  {
   "cell_type": "markdown",
   "metadata": {},
   "source": [
    "## Get Data\n"
   ]
  },
  {
   "cell_type": "code",
   "execution_count": 2,
   "metadata": {},
   "outputs": [],
   "source": [
    "# Run these pip3 installs once to install yahoo finance libraries\n",
    "# !pip3 install yahoo-finance --user\n",
    "# !pip3 install yfinance --user --upgrade --no-cache-dir\n",
    "\n",
    "import yfinance as yf\n",
    "# Documentation at https://pypi.org/project/yfinance/"
   ]
  },
  {
   "cell_type": "code",
   "execution_count": 3,
   "metadata": {
    "scrolled": true
   },
   "outputs": [
    {
     "name": "stdout",
     "output_type": "stream",
     "text": [
      "[*********************100%***********************]  29 of 29 downloaded\n"
     ]
    },
    {
     "data": {
      "text/html": [
       "<div>\n",
       "<style scoped>\n",
       "    .dataframe tbody tr th:only-of-type {\n",
       "        vertical-align: middle;\n",
       "    }\n",
       "\n",
       "    .dataframe tbody tr th {\n",
       "        vertical-align: top;\n",
       "    }\n",
       "\n",
       "    .dataframe thead th {\n",
       "        text-align: right;\n",
       "    }\n",
       "</style>\n",
       "<table border=\"1\" class=\"dataframe\">\n",
       "  <thead>\n",
       "    <tr style=\"text-align: right;\">\n",
       "      <th></th>\n",
       "      <th>Adj Close AAPL</th>\n",
       "      <th>Adj Close AXP</th>\n",
       "      <th>Adj Close BA</th>\n",
       "      <th>Adj Close CAT</th>\n",
       "      <th>Adj Close CSCO</th>\n",
       "      <th>Adj Close CVX</th>\n",
       "      <th>Adj Close DIS</th>\n",
       "      <th>Adj Close GE</th>\n",
       "      <th>Adj Close GS</th>\n",
       "      <th>Adj Close HD</th>\n",
       "      <th>...</th>\n",
       "      <th>Volume NKE</th>\n",
       "      <th>Volume PFE</th>\n",
       "      <th>Volume PG</th>\n",
       "      <th>Volume TRV</th>\n",
       "      <th>Volume UNH</th>\n",
       "      <th>Volume UTX</th>\n",
       "      <th>Volume V</th>\n",
       "      <th>Volume VZ</th>\n",
       "      <th>Volume WMT</th>\n",
       "      <th>Volume XOM</th>\n",
       "    </tr>\n",
       "    <tr>\n",
       "      <th>Date</th>\n",
       "      <th></th>\n",
       "      <th></th>\n",
       "      <th></th>\n",
       "      <th></th>\n",
       "      <th></th>\n",
       "      <th></th>\n",
       "      <th></th>\n",
       "      <th></th>\n",
       "      <th></th>\n",
       "      <th></th>\n",
       "      <th></th>\n",
       "      <th></th>\n",
       "      <th></th>\n",
       "      <th></th>\n",
       "      <th></th>\n",
       "      <th></th>\n",
       "      <th></th>\n",
       "      <th></th>\n",
       "      <th></th>\n",
       "      <th></th>\n",
       "      <th></th>\n",
       "    </tr>\n",
       "  </thead>\n",
       "  <tbody>\n",
       "  </tbody>\n",
       "</table>\n",
       "<p>0 rows × 174 columns</p>\n",
       "</div>"
      ],
      "text/plain": [
       "Empty DataFrame\n",
       "Columns: [Adj Close AAPL, Adj Close AXP, Adj Close BA, Adj Close CAT, Adj Close CSCO, Adj Close CVX, Adj Close DIS, Adj Close GE, Adj Close GS, Adj Close HD, Adj Close IBM, Adj Close INTC, Adj Close JNJ, Adj Close JPM, Adj Close KO, Adj Close MCD, Adj Close MMM, Adj Close MRK, Adj Close MSFT, Adj Close NKE, Adj Close PFE, Adj Close PG, Adj Close TRV, Adj Close UNH, Adj Close UTX, Adj Close V, Adj Close VZ, Adj Close WMT, Adj Close XOM, Close AAPL, Close AXP, Close BA, Close CAT, Close CSCO, Close CVX, Close DIS, Close GE, Close GS, Close HD, Close IBM, Close INTC, Close JNJ, Close JPM, Close KO, Close MCD, Close MMM, Close MRK, Close MSFT, Close NKE, Close PFE, Close PG, Close TRV, Close UNH, Close UTX, Close V, Close VZ, Close WMT, Close XOM, High AAPL, High AXP, High BA, High CAT, High CSCO, High CVX, High DIS, High GE, High GS, High HD, High IBM, High INTC, High JNJ, High JPM, High KO, High MCD, High MMM, High MRK, High MSFT, High NKE, High PFE, High PG, High TRV, High UNH, High UTX, High V, High VZ, High WMT, High XOM, Low AAPL, Low AXP, Low BA, Low CAT, Low CSCO, Low CVX, Low DIS, Low GE, Low GS, Low HD, Low IBM, Low INTC, Low JNJ, ...]\n",
       "Index: []\n",
       "\n",
       "[0 rows x 174 columns]"
      ]
     },
     "execution_count": 3,
     "metadata": {},
     "output_type": "execute_result"
    }
   ],
   "source": [
    "tickers = 'mmm axp aapl ba cat cvx csco ko dis xom ge gs hd ibm intc jnj jpm mcd mrk msft nke pfe pg trv utx unh vz v wmt'\n",
    "# exclude dwdp because it's historical data only goes back 1 year\n",
    "period = '5y'\n",
    "\n",
    "data = yf.download(tickers, period=period)\n",
    "data.columns = ['%s%s' % (a, ' %s' % b if b else '') for a, b in data.columns]\n",
    "data[data.isna().any(axis=1)] #Display rows with Null values"
   ]
  },
  {
   "cell_type": "code",
   "execution_count": 4,
   "metadata": {},
   "outputs": [
    {
     "data": {
      "text/plain": [
       "(1259, 174)"
      ]
     },
     "execution_count": 4,
     "metadata": {},
     "output_type": "execute_result"
    }
   ],
   "source": [
    "#data = data.drop([datetime.datetime(2016, 1, 18)])\n",
    "data.shape"
   ]
  },
  {
   "cell_type": "markdown",
   "metadata": {},
   "source": [
    "## Data\n",
    "\n",
    "The data comprises of 29 stocks [mmm axp aapl ba cat cvx csco ko dis xom ge gs hd ibm intc jnj jpm mcd mrk msft nke pfe pg trv utx unh vz v wmt] over a 5 year period (end date is current date) with 252 days in a year (except 2016 whichis missing the date 2016-01-18). Each date entry has 6 variables [Adjusted Close, Close, High, Low, Open, Volume]. We are trying to predict the next day's Close. "
   ]
  },
  {
   "cell_type": "code",
   "execution_count": 5,
   "metadata": {},
   "outputs": [],
   "source": [
    "MMM = data[['Adj Close MMM', 'Close MMM', 'High MMM', 'Low MMM', 'Open MMM', 'Volume MMM']]\n",
    "MMM.columns = ['Adj Close', 'Close', 'High', 'Low', 'Open', 'Volume']\n",
    "\n",
    "AAPL = data[['Adj Close AAPL', 'Close AAPL', 'High AAPL', 'Low AAPL', 'Open AAPL', 'Volume AAPL']]\n",
    "AAPL.columns = ['Adj Close', 'Close', 'High', 'Low', 'Open', 'Volume']\n",
    "AXP = data[['Adj Close AXP', 'Close AXP', 'High AXP', 'Low AXP', 'Open AXP', 'Volume AXP']]\n",
    "AXP.columns = ['Adj Close', 'Close', 'High', 'Low', 'Open', 'Volume']\n",
    "BA = data[['Adj Close BA', 'Close BA', 'High BA', 'Low BA', 'Open BA', 'Volume BA']]\n",
    "BA.columns = ['Adj Close', 'Close', 'High', 'Low', 'Open', 'Volume']\n",
    "CAT = data[['Adj Close CAT', 'Close CAT', 'High CAT', 'Low CAT', 'Open CAT', 'Volume CAT']]\n",
    "CAT.columns = ['Adj Close', 'Close', 'High', 'Low', 'Open', 'Volume']\n",
    "CVX = data[['Adj Close CVX', 'Close CVX', 'High CVX', 'Low CVX', 'Open CVX', 'Volume CVX']]\n",
    "CVX.columns = ['Adj Close', 'Close', 'High', 'Low', 'Open', 'Volume']\n",
    "CSCO = data[['Adj Close CSCO', 'Close CSCO', 'High CSCO', 'Low CSCO', 'Open CSCO', 'Volume CSCO']]\n",
    "CSCO.columns = ['Adj Close', 'Close', 'High', 'Low', 'Open', 'Volume']\n",
    "KO = data[['Adj Close KO', 'Close KO', 'High KO', 'Low KO', 'Open KO', 'Volume KO']]\n",
    "KO.columns = ['Adj Close', 'Close', 'High', 'Low', 'Open', 'Volume']\n",
    "DIS = data[['Adj Close DIS', 'Close DIS', 'High DIS', 'Low DIS', 'Open DIS', 'Volume DIS']]\n",
    "DIS.columns = ['Adj Close', 'Close', 'High', 'Low', 'Open', 'Volume']\n",
    "XOM = data[['Adj Close XOM', 'Close XOM', 'High XOM', 'Low XOM', 'Open XOM', 'Volume XOM']]\n",
    "XOM.columns = ['Adj Close', 'Close', 'High', 'Low', 'Open', 'Volume']\n",
    "GE = data[['Adj Close GE', 'Close GE', 'High GE', 'Low GE', 'Open GE', 'Volume GE']]\n",
    "GE.columns = ['Adj Close', 'Close', 'High', 'Low', 'Open', 'Volume']\n",
    "GS = data[['Adj Close GS', 'Close GS', 'High GS', 'Low GS', 'Open GS', 'Volume GS']]\n",
    "GS.columns = ['Adj Close', 'Close', 'High', 'Low', 'Open', 'Volume']\n",
    "HD = data[['Adj Close HD', 'Close HD', 'High HD', 'Low HD', 'Open HD', 'Volume HD']]\n",
    "HD.columns = ['Adj Close', 'Close', 'High', 'Low', 'Open', 'Volume']\n",
    "IBM = data[['Adj Close IBM', 'Close IBM', 'High AAPL', 'Low IBM', 'Open IBM', 'Volume IBM']]\n",
    "IBM.columns = ['Adj Close', 'Close', 'High', 'Low', 'Open', 'Volume']\n",
    "INTC = data[['Adj Close INTC', 'Close INTC', 'High INTC', 'Low INTC', 'Open INTC', 'Volume INTC']]\n",
    "INTC.columns = ['Adj Close', 'Close', 'High', 'Low', 'Open', 'Volume']\n",
    "JNJ = data[['Adj Close JNJ', 'Close JNJ', 'High JNJ', 'Low JNJ', 'Open JNJ', 'Volume JNJ']]\n",
    "JNJ.columns = ['Adj Close', 'Close', 'High', 'Low', 'Open', 'Volume']\n",
    "JPM = data[['Adj Close JPM', 'Close JPM', 'High JPM', 'Low JPM', 'Open JPM', 'Volume JPM']]\n",
    "JPM.columns = ['Adj Close', 'Close', 'High', 'Low', 'Open', 'Volume']\n",
    "MCD = data[['Adj Close MCD', 'Close MCD', 'High MCD', 'Low MCD', 'Open MCD', 'Volume MCD']]\n",
    "MCD.columns = ['Adj Close', 'Close', 'High', 'Low', 'Open', 'Volume']\n",
    "MRK = data[['Adj Close MRK', 'Close MRK', 'High MRK', 'Low MRK', 'Open MRK', 'Volume MRK']]\n",
    "MRK.columns = ['Adj Close', 'Close', 'High', 'Low', 'Open', 'Volume']\n",
    "MSFT = data[['Adj Close MSFT', 'Close MSFT', 'High MSFT', 'Low MSFT', 'Open MSFT', 'Volume MSFT']]\n",
    "MSFT.columns = ['Adj Close', 'Close', 'High', 'Low', 'Open', 'Volume']\n",
    "NKE = data[['Adj Close NKE', 'Close NKE', 'High NKE', 'Low NKE', 'Open NKE', 'Volume NKE']]\n",
    "NKE.columns = ['Adj Close', 'Close', 'High', 'Low', 'Open', 'Volume']\n",
    "PFE = data[['Adj Close PFE', 'Close PFE', 'High PFE', 'Low PFE', 'Open PFE', 'Volume PFE']]\n",
    "PFE.columns = ['Adj Close', 'Close', 'High', 'Low', 'Open', 'Volume']\n",
    "PG = data[['Adj Close PG', 'Close PG', 'High PG', 'Low PG', 'Open PG', 'Volume PG']]\n",
    "PG.columns = ['Adj Close', 'Close', 'High', 'Low', 'Open', 'Volume']\n",
    "TRV = data[['Adj Close TRV', 'Close TRV', 'High TRV', 'Low TRV', 'Open TRV', 'Volume TRV']]\n",
    "TRV.columns = ['Adj Close', 'Close', 'High', 'Low', 'Open', 'Volume']\n",
    "UTX = data[['Adj Close UTX', 'Close UTX', 'High UTX', 'Low UTX', 'Open UTX', 'Volume UTX']]\n",
    "UTX.columns = ['Adj Close', 'Close', 'High', 'Low', 'Open', 'Volume']\n",
    "UNH = data[['Adj Close UNH', 'Close UNH', 'High UNH', 'Low UNH', 'Open UNH', 'Volume UNH']]\n",
    "UNH.columns = ['Adj Close', 'Close', 'High', 'Low', 'Open', 'Volume']\n",
    "VZ = data[['Adj Close VZ', 'Close VZ', 'High VZ', 'Low VZ', 'Open VZ', 'Volume VZ']]\n",
    "VZ.columns = ['Adj Close', 'Close', 'High', 'Low', 'Open', 'Volume']\n",
    "V = data[['Adj Close V', 'Close V', 'High V', 'Low V', 'Open V', 'Volume V']]\n",
    "V.columns = ['Adj Close', 'Close', 'High', 'Low', 'Open', 'Volume']\n",
    "WMT = data[['Adj Close WMT', 'Close WMT', 'High WMT', 'Low WMT', 'Open WMT', 'Volume WMT']]\n",
    "WMT.columns = ['Adj Close', 'Close', 'High', 'Low', 'Open', 'Volume']"
   ]
  },
  {
   "cell_type": "code",
   "execution_count": 6,
   "metadata": {
    "scrolled": true
   },
   "outputs": [
    {
     "data": {
      "text/plain": [
       "<matplotlib.axes._subplots.AxesSubplot at 0x15cb8e5afd0>"
      ]
     },
     "execution_count": 6,
     "metadata": {},
     "output_type": "execute_result"
    },
    {
     "data": {
      "image/png": "[encoded data removed]",
      "text/plain": [
       "<Figure size 1152x432 with 1 Axes>"
      ]
     },
     "metadata": {
      "needs_background": "light"
     },
     "output_type": "display_data"
    }
   ],
   "source": [
    "MMM['Close'].plot(figsize=(16,6))"
   ]
  },
  {
   "cell_type": "markdown",
   "metadata": {},
   "source": [
    "# Setting up the data"
   ]
  },
  {
   "cell_type": "code",
   "execution_count": 7,
   "metadata": {},
   "outputs": [],
   "source": [
    "def setup(look_back, data):\n",
    "    train_percent = .8\n",
    "    n_train = int(train_percent * len(data))\n",
    "    train = data[:n_train]\n",
    "    test = data[n_train - look_back:]\n",
    "    return train, test\n",
    "def partition_data(train_scaled, test_scaled, look_back):\n",
    "    X_train = []\n",
    "    y_train = []\n",
    "    X_test = []\n",
    "    for i in range(look_back, train_scaled.shape[0]):\n",
    "        X_train.append(train_scaled[i-look_back:i, :])\n",
    "        y_train.append(train_scaled[i, 1])\n",
    "    for i in range(look_back, test_scaled.shape[0]):\n",
    "        X_test.append(test_scaled[i-look_back:i, :])\n",
    "    X_test = np.array(X_test)\n",
    "    X_test = np.reshape(X_test, (X_test.shape[0], X_test.shape[1], 6))\n",
    "    X_train, y_train = np.array(X_train), np.array(y_train)\n",
    "    # Reshaping\n",
    "    X_train = np.reshape(X_train, (X_train.shape[0], X_train.shape[1], 6))\n",
    "    return X_test, X_train, y_train"
   ]
  },
  {
   "cell_type": "markdown",
   "metadata": {},
   "source": [
    "## Multivariate Model"
   ]
  },
  {
   "cell_type": "code",
   "execution_count": 8,
   "metadata": {},
   "outputs": [],
   "source": [
    "look_back = 15\n",
    "train, test = setup(look_back, MMM)"
   ]
  },
  {
   "cell_type": "code",
   "execution_count": 9,
   "metadata": {},
   "outputs": [],
   "source": [
    "# Feature Scaling\n",
    "scMultiVariate = MinMaxScaler(feature_range = (0, 1))\n",
    "train_scaled = scMultiVariate.fit_transform(train)\n",
    "test_scaled = scMultiVariate.fit_transform(test)\n",
    "#train_scaled, test_scaled = scale(train, test)"
   ]
  },
  {
   "cell_type": "code",
   "execution_count": 10,
   "metadata": {},
   "outputs": [],
   "source": [
    "X_test, X_train, y_train = partition_data(train_scaled, test_scaled, look_back)"
   ]
  },
  {
   "cell_type": "code",
   "execution_count": 11,
   "metadata": {},
   "outputs": [],
   "source": [
    "# Initialising the RNN\n",
    "regressor = Sequential()\n",
    "# Adding the first LSTM layer and some Dropout regularisation\n",
    "regressor.add(LSTM(units = 25, input_shape = (X_train.shape[1], 6)))\n",
    "\n",
    "# Adding the output layer\n",
    "regressor.add(Dense(units = 1))"
   ]
  },
  {
   "cell_type": "code",
   "execution_count": 12,
   "metadata": {
    "scrolled": false
   },
   "outputs": [
    {
     "name": "stdout",
     "output_type": "stream",
     "text": [
      "Train on 992 samples\n",
      "Epoch 1/10\n",
      "992/992 [==============================] - 4s 4ms/sample - loss: 0.0409\n",
      "Epoch 2/10\n",
      "992/992 [==============================] - 0s 391us/sample - loss: 0.0044\n",
      "Epoch 3/10\n",
      "992/992 [==============================] - 0s 387us/sample - loss: 0.0018\n",
      "Epoch 4/10\n",
      "992/992 [==============================] - 0s 394us/sample - loss: 0.0013\n",
      "Epoch 5/10\n",
      "992/992 [==============================] - 0s 385us/sample - loss: 0.0012\n",
      "Epoch 6/10\n",
      "992/992 [==============================] - 0s 379us/sample - loss: 0.0011\n",
      "Epoch 7/10\n",
      "992/992 [==============================] - 0s 373us/sample - loss: 0.0011\n",
      "Epoch 8/10\n",
      "992/992 [==============================] - 0s 375us/sample - loss: 0.0010\n",
      "Epoch 9/10\n",
      "992/992 [==============================] - 0s 374us/sample - loss: 0.0010\n",
      "Epoch 10/10\n",
      "992/992 [==============================] - 0s 363us/sample - loss: 0.0010\n"
     ]
    },
    {
     "data": {
      "text/plain": [
       "<tensorflow.python.keras.callbacks.History at 0x15cba5ca1d0>"
      ]
     },
     "execution_count": 12,
     "metadata": {},
     "output_type": "execute_result"
    }
   ],
   "source": [
    "# Compiling the RNN\n",
    "regressor.compile(optimizer = 'Adam', loss = 'mean_squared_error')\n",
    "\n",
    "# Fitting the RNN to the Training set\n",
    "regressor.fit(X_train, y_train, epochs = 10, batch_size = 50)"
   ]
  },
  {
   "cell_type": "code",
   "execution_count": 13,
   "metadata": {},
   "outputs": [],
   "source": [
    "predicted_stock_price = regressor.predict(X_test)\n",
    "predicted_stock_price = scMultiVariate.inverse_transform(np.repeat(predicted_stock_price, 6, axis=1))[:, 1]\n",
    "predicted_stock_price = pd.DataFrame(predicted_stock_price)\n",
    "Y_test = test['Close'][look_back:]"
   ]
  },
  {
   "cell_type": "code",
   "execution_count": 14,
   "metadata": {},
   "outputs": [
    {
     "data": {
      "image/png": "[encoded data removed]",
      "text/plain": [
       "<Figure size 432x288 with 1 Axes>"
      ]
     },
     "metadata": {
      "needs_background": "light"
     },
     "output_type": "display_data"
    }
   ],
   "source": [
    "predicted_stock_price.index = Y_test.index\n",
    "plt.plot(predicted_stock_price)\n",
    "plt.plot(Y_test)\n",
    "plt.show()"
   ]
  },
  {
   "cell_type": "markdown",
   "metadata": {},
   "source": [
    "# Multivariate Regularization"
   ]
  },
  {
   "cell_type": "markdown",
   "metadata": {},
   "source": [
    "The reason regularization exists is to limit the overfitting of data.\n",
    "\n",
    "The purpose of regularizers is to add a penalty for weight size to the loss function\n",
    "There are several regulizers we will try\n",
    "* L1 - Sum of the absolute weights\n",
    "* L2 - Sum of the squared weights\n",
    "* L1_L2 - Both\n",
    "\n",
    "Seeing as the testing data mean squared error is low and the predicted close price aligns with the actual close price pretty well, I assume the data to too overfitted if at all.\n",
    "\n",
    "Adding a dropout is another way of regularization, but it didn't produce any better results.\n",
    "\n",
    "Using Dropout regularization randomly drops that percentage of units in a layer when training data"
   ]
  },
  {
   "cell_type": "markdown",
   "metadata": {},
   "source": [
    "## L1"
   ]
  },
  {
   "cell_type": "code",
   "execution_count": 15,
   "metadata": {},
   "outputs": [],
   "source": [
    "look_back = 15\n",
    "train, test = setup(look_back, MMM)"
   ]
  },
  {
   "cell_type": "code",
   "execution_count": 16,
   "metadata": {},
   "outputs": [],
   "source": [
    "# Feature Scaling\n",
    "scMultiVariate = MinMaxScaler(feature_range = (0, 1))\n",
    "train_scaled = scMultiVariate.fit_transform(train)\n",
    "test_scaled = scMultiVariate.fit_transform(test)\n",
    "#train_scaled, test_scaled = scale(train, test)"
   ]
  },
  {
   "cell_type": "code",
   "execution_count": 17,
   "metadata": {},
   "outputs": [],
   "source": [
    "X_test, X_train, y_train = partition_data(train_scaled, test_scaled, look_back)"
   ]
  },
  {
   "cell_type": "code",
   "execution_count": 18,
   "metadata": {},
   "outputs": [],
   "source": [
    "# Initialising the RNN\n",
    "regressor = Sequential()\n",
    "\n",
    "# Adding the first LSTM layer and some Dropout regularisation\n",
    "regressor.add(LSTM(units = 25, input_shape = (X_train.shape[1], 6), return_sequences = True,\n",
    "                   kernel_regularizer=l1(0.0001), recurrent_regularizer=l1(0.001), bias_regularizer=l1(0.01)))\n",
    "#regressor.add(Dropout(0.1))\n",
    "\n",
    "regressor.add(LSTM(units = 50))\n",
    "regressor.add(Dropout(0.2))\n",
    "# Adding the output layer\n",
    "regressor.add(Dense(units = 1))\n"
   ]
  },
  {
   "cell_type": "code",
   "execution_count": 19,
   "metadata": {
    "scrolled": false
   },
   "outputs": [
    {
     "name": "stdout",
     "output_type": "stream",
     "text": [
      "Train on 992 samples\n",
      "Epoch 1/15\n",
      "992/992 [==============================] - 7s 7ms/sample - loss: 0.4879\n",
      "Epoch 2/15\n",
      "992/992 [==============================] - 1s 749us/sample - loss: 0.4114\n",
      "Epoch 3/15\n",
      "992/992 [==============================] - 1s 763us/sample - loss: 0.3732\n",
      "Epoch 4/15\n",
      "992/992 [==============================] - 1s 748us/sample - loss: 0.3415\n",
      "Epoch 5/15\n",
      "992/992 [==============================] - 1s 752us/sample - loss: 0.3138\n",
      "Epoch 6/15\n",
      "992/992 [==============================] - 1s 749us/sample - loss: 0.2916\n",
      "Epoch 7/15\n",
      "992/992 [==============================] - 1s 753us/sample - loss: 0.2726\n",
      "Epoch 8/15\n",
      "992/992 [==============================] - 1s 749us/sample - loss: 0.2571\n",
      "Epoch 9/15\n",
      "992/992 [==============================] - 1s 705us/sample - loss: 0.2439\n",
      "Epoch 10/15\n",
      "992/992 [==============================] - 1s 694us/sample - loss: 0.2328\n",
      "Epoch 11/15\n",
      "992/992 [==============================] - 1s 698us/sample - loss: 0.2228\n",
      "Epoch 12/15\n",
      "992/992 [==============================] - 1s 707us/sample - loss: 0.2147\n",
      "Epoch 13/15\n",
      "992/992 [==============================] - 1s 717us/sample - loss: 0.2068\n",
      "Epoch 14/15\n",
      "992/992 [==============================] - 1s 716us/sample - loss: 0.1998\n",
      "Epoch 15/15\n",
      "992/992 [==============================] - 1s 725us/sample - loss: 0.1932\n"
     ]
    },
    {
     "data": {
      "text/plain": [
       "<tensorflow.python.keras.callbacks.History at 0x15cbfca9358>"
      ]
     },
     "execution_count": 19,
     "metadata": {},
     "output_type": "execute_result"
    }
   ],
   "source": [
    "# Compiling the RNN\n",
    "regressor.compile(optimizer = 'Adam', loss = 'mean_squared_error')\n",
    "# Fitting the RNN to the Training set\n",
    "regressor.fit(X_train, y_train, epochs = 15, batch_size = 50)"
   ]
  },
  {
   "cell_type": "code",
   "execution_count": 20,
   "metadata": {},
   "outputs": [],
   "source": [
    "predicted_stock_price = regressor.predict(X_test)\n",
    "predicted_stock_price = scMultiVariate.inverse_transform(np.repeat(predicted_stock_price, 6, axis=1))[:, 1]\n",
    "predicted_stock_price = pd.DataFrame(predicted_stock_price)\n",
    "Y_test = test['Close'][look_back:]"
   ]
  },
  {
   "cell_type": "code",
   "execution_count": 21,
   "metadata": {},
   "outputs": [
    {
     "data": {
      "image/png": "[encoded data removed]",
      "text/plain": [
       "<Figure size 432x288 with 1 Axes>"
      ]
     },
     "metadata": {
      "needs_background": "light"
     },
     "output_type": "display_data"
    }
   ],
   "source": [
    "predicted_stock_price.index = Y_test.index\n",
    "plt.plot(predicted_stock_price)\n",
    "plt.plot(Y_test)\n",
    "plt.show()"
   ]
  },
  {
   "cell_type": "markdown",
   "metadata": {},
   "source": [
    "With this specific test, it seems as though our loss mean squared error isn't as good as without using regularizers. The point of using regularizers is to prevent overfitting of the data. As our test with no regularizers produced a low mean quared error and produced pretty good results, I don't think our data was very overfitted if it was"
   ]
  },
  {
   "cell_type": "markdown",
   "metadata": {},
   "source": [
    "## L2"
   ]
  },
  {
   "cell_type": "code",
   "execution_count": 22,
   "metadata": {},
   "outputs": [],
   "source": [
    "look_back = 15\n",
    "train, test = setup(look_back, MMM)"
   ]
  },
  {
   "cell_type": "code",
   "execution_count": 23,
   "metadata": {},
   "outputs": [],
   "source": [
    "# Feature Scaling\n",
    "scMultiVariate = MinMaxScaler(feature_range = (0, 1))\n",
    "train_scaled = scMultiVariate.fit_transform(train)\n",
    "test_scaled = scMultiVariate.fit_transform(test)\n",
    "#train_scaled, test_scaled = scale(train, test)"
   ]
  },
  {
   "cell_type": "code",
   "execution_count": 24,
   "metadata": {},
   "outputs": [],
   "source": [
    "X_test, X_train, y_train = partition_data(train_scaled, test_scaled, look_back)"
   ]
  },
  {
   "cell_type": "code",
   "execution_count": 25,
   "metadata": {},
   "outputs": [],
   "source": [
    "# Initialising the RNN\n",
    "regressor = Sequential()\n",
    "\n",
    "# Adding the first LSTM layer and some Dropout regularisation\n",
    "regressor.add(LSTM(units = 25, input_shape = (X_train.shape[1], 6), \n",
    "                   kernel_regularizer=l2(0.001), recurrent_regularizer=l2(0.001), bias_regularizer=l2(0.001)))\n",
    "#regressor.add(Dropout(0.2))\n",
    "\n",
    "# Adding the output layer\n",
    "regressor.add(Dense(units = 1))\n"
   ]
  },
  {
   "cell_type": "code",
   "execution_count": 26,
   "metadata": {
    "scrolled": true
   },
   "outputs": [
    {
     "name": "stdout",
     "output_type": "stream",
     "text": [
      "Train on 992 samples\n",
      "Epoch 1/15\n",
      "992/992 [==============================] - 3s 4ms/sample - loss: 0.0684\n",
      "Epoch 2/15\n",
      "992/992 [==============================] - 0s 205us/sample - loss: 0.0605\n",
      "Epoch 3/15\n",
      "992/992 [==============================] - 0s 207us/sample - loss: 0.0568\n",
      "Epoch 4/15\n",
      "992/992 [==============================] - 0s 202us/sample - loss: 0.0538\n",
      "Epoch 5/15\n",
      "992/992 [==============================] - 0s 201us/sample - loss: 0.0510\n",
      "Epoch 6/15\n",
      "992/992 [==============================] - 0s 200us/sample - loss: 0.0485\n",
      "Epoch 7/15\n",
      "992/992 [==============================] - 0s 196us/sample - loss: 0.0462\n",
      "Epoch 8/15\n",
      "992/992 [==============================] - 0s 202us/sample - loss: 0.0440\n",
      "Epoch 9/15\n",
      "992/992 [==============================] - 0s 202us/sample - loss: 0.0421\n",
      "Epoch 10/15\n",
      "992/992 [==============================] - 0s 203us/sample - loss: 0.0402\n",
      "Epoch 11/15\n",
      "992/992 [==============================] - 0s 204us/sample - loss: 0.0385\n",
      "Epoch 12/15\n",
      "992/992 [==============================] - 0s 202us/sample - loss: 0.0370\n",
      "Epoch 13/15\n",
      "992/992 [==============================] - 0s 215us/sample - loss: 0.0355\n",
      "Epoch 14/15\n",
      "992/992 [==============================] - 0s 196us/sample - loss: 0.0342\n",
      "Epoch 15/15\n",
      "992/992 [==============================] - 0s 195us/sample - loss: 0.0329\n"
     ]
    },
    {
     "data": {
      "text/plain": [
       "<tensorflow.python.keras.callbacks.History at 0x15cc83e1c18>"
      ]
     },
     "execution_count": 26,
     "metadata": {},
     "output_type": "execute_result"
    }
   ],
   "source": [
    "# Compiling the RNN\n",
    "regressor.compile(optimizer = 'adam', loss = 'mean_squared_error')\n",
    "# Fitting the RNN to the Training set\n",
    "regressor.fit(X_train, y_train, epochs = 15, batch_size = 100)"
   ]
  },
  {
   "cell_type": "code",
   "execution_count": 27,
   "metadata": {},
   "outputs": [],
   "source": [
    "predicted_stock_price = regressor.predict(X_test)\n",
    "predicted_stock_price = scMultiVariate.inverse_transform(np.repeat(predicted_stock_price, 6, axis=1))[:, 1]\n",
    "predicted_stock_price = pd.DataFrame(predicted_stock_price)\n",
    "Y_test = test['Close'][look_back:]"
   ]
  },
  {
   "cell_type": "code",
   "execution_count": 28,
   "metadata": {
    "scrolled": true
   },
   "outputs": [
    {
     "data": {
      "image/png": "[encoded data removed]",
      "text/plain": [
       "<Figure size 432x288 with 1 Axes>"
      ]
     },
     "metadata": {
      "needs_background": "light"
     },
     "output_type": "display_data"
    }
   ],
   "source": [
    "predicted_stock_price.index = Y_test.index\n",
    "plt.plot(predicted_stock_price)\n",
    "plt.plot(Y_test)\n",
    "plt.show()"
   ]
  },
  {
   "cell_type": "markdown",
   "metadata": {},
   "source": [
    "This matched the results we acheived without using any regularizers"
   ]
  },
  {
   "cell_type": "markdown",
   "metadata": {},
   "source": [
    "## L1 & L2"
   ]
  },
  {
   "cell_type": "code",
   "execution_count": 29,
   "metadata": {},
   "outputs": [],
   "source": [
    "look_back = 15\n",
    "train, test = setup(look_back, MMM)"
   ]
  },
  {
   "cell_type": "code",
   "execution_count": 30,
   "metadata": {},
   "outputs": [],
   "source": [
    "# Feature Scaling\n",
    "scMultiVariate = MinMaxScaler(feature_range = (0, 1))\n",
    "train_scaled = scMultiVariate.fit_transform(train)\n",
    "test_scaled = scMultiVariate.fit_transform(test)\n",
    "#train_scaled, test_scaled = scale(train, test)"
   ]
  },
  {
   "cell_type": "code",
   "execution_count": 31,
   "metadata": {},
   "outputs": [],
   "source": [
    "X_test, X_train, y_train = partition_data(train_scaled, test_scaled, look_back)"
   ]
  },
  {
   "cell_type": "code",
   "execution_count": 32,
   "metadata": {},
   "outputs": [],
   "source": [
    "# Initialising the RNN\n",
    "regressor = Sequential()\n",
    "\n",
    "# Adding the first LSTM layer and some Dropout regularisation\n",
    "regressor.add(LSTM(units = 25, input_shape = (X_train.shape[1], 6), \n",
    "                   kernel_regularizer=l1_l2(l1=0.0001, l2=0.001), recurrent_regularizer=l1_l2(l1=0.0001, l2=0.001), \n",
    "                   bias_regularizer=l1_l2(l1=0.0001, l2=0.001)))\n",
    "\n",
    "# Adding the output layer\n",
    "regressor.add(Dense(units = 1))"
   ]
  },
  {
   "cell_type": "code",
   "execution_count": 33,
   "metadata": {},
   "outputs": [
    {
     "name": "stdout",
     "output_type": "stream",
     "text": [
      "Train on 992 samples\n",
      "Epoch 1/15\n",
      "992/992 [==============================] - 4s 4ms/sample - loss: 0.1102\n",
      "Epoch 2/15\n",
      "992/992 [==============================] - 0s 277us/sample - loss: 0.0874\n",
      "Epoch 3/15\n",
      "992/992 [==============================] - 0s 280us/sample - loss: 0.0786\n",
      "Epoch 4/15\n",
      "992/992 [==============================] - 0s 282us/sample - loss: 0.0720\n",
      "Epoch 5/15\n",
      "992/992 [==============================] - 0s 280us/sample - loss: 0.0665\n",
      "Epoch 6/15\n",
      "992/992 [==============================] - 0s 278us/sample - loss: 0.0616\n",
      "Epoch 7/15\n",
      "992/992 [==============================] - 0s 288us/sample - loss: 0.0572\n",
      "Epoch 8/15\n",
      "992/992 [==============================] - 0s 279us/sample - loss: 0.0533\n",
      "Epoch 9/15\n",
      "992/992 [==============================] - 0s 280us/sample - loss: 0.0498\n",
      "Epoch 10/15\n",
      "992/992 [==============================] - 0s 280us/sample - loss: 0.0467\n",
      "Epoch 11/15\n",
      "992/992 [==============================] - 0s 280us/sample - loss: 0.0439\n",
      "Epoch 12/15\n",
      "992/992 [==============================] - 0s 275us/sample - loss: 0.0414\n",
      "Epoch 13/15\n",
      "992/992 [==============================] - 0s 276us/sample - loss: 0.0391\n",
      "Epoch 14/15\n",
      "992/992 [==============================] - 0s 279us/sample - loss: 0.0371\n",
      "Epoch 15/15\n",
      "992/992 [==============================] - 0s 286us/sample - loss: 0.0352\n"
     ]
    },
    {
     "data": {
      "text/plain": [
       "<tensorflow.python.keras.callbacks.History at 0x15ccc457cc0>"
      ]
     },
     "execution_count": 33,
     "metadata": {},
     "output_type": "execute_result"
    }
   ],
   "source": [
    "# Compiling the RNN\n",
    "regressor.compile(optimizer = 'adam', loss = 'mean_squared_error')\n",
    "# Fitting the RNN to the Training set\n",
    "regressor.fit(X_train, y_train, epochs = 15, batch_size = 75)"
   ]
  },
  {
   "cell_type": "code",
   "execution_count": 34,
   "metadata": {},
   "outputs": [],
   "source": [
    "predicted_stock_price = regressor.predict(X_test)\n",
    "predicted_stock_price = scMultiVariate.inverse_transform(np.repeat(predicted_stock_price, 6, axis=1))[:, 1]\n",
    "predicted_stock_price = pd.DataFrame(predicted_stock_price)\n",
    "Y_test = test['Close'][look_back:]"
   ]
  },
  {
   "cell_type": "code",
   "execution_count": 35,
   "metadata": {},
   "outputs": [
    {
     "data": {
      "image/png": "[encoded data removed]",
      "text/plain": [
       "<Figure size 432x288 with 1 Axes>"
      ]
     },
     "metadata": {
      "needs_background": "light"
     },
     "output_type": "display_data"
    }
   ],
   "source": [
    "predicted_stock_price.index = Y_test.index\n",
    "plt.plot(predicted_stock_price)\n",
    "plt.plot(Y_test)\n",
    "plt.show()"
   ]
  }
 ],
 "metadata": {
  "kernelspec": {
   "display_name": "Python 3",
   "language": "python",
   "name": "python3"
  },
  "language_info": {
   "codemirror_mode": {
    "name": "ipython",
    "version": 3
   },
   "file_extension": ".py",
   "mimetype": "text/x-python",
   "name": "python",
   "nbconvert_exporter": "python",
   "pygments_lexer": "ipython3",
   "version": "3.7.3"
  }
 },
 "nbformat": 4,
 "nbformat_minor": 2
}
