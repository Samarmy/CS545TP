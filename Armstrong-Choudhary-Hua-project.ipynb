{
 "cells": [
  {
   "cell_type": "markdown",
   "metadata": {},
   "source": [
    "# Project for CS545\n",
    "\n",
    "Sam Armstrong, Saloni Choudhary, Brandon Hua"
   ]
  },
  {
   "cell_type": "code",
   "execution_count": 110,
   "metadata": {},
   "outputs": [],
   "source": [
    "import pandas as pd\n",
    "import datetime\n",
    "# univariate stacked lstm example\n",
    "# from numpy import array\n",
    "import numpy as np\n",
    "import tensorflow\n",
    "from tensorflow.keras.models import Sequential\n",
    "from tensorflow.keras.layers import LSTM\n",
    "from tensorflow.keras.layers import GRU\n",
    "from tensorflow.keras.layers import Dense\n",
    "from tensorflow.keras.layers import Dropout\n",
    "from tensorflow.keras.layers import Flatten\n",
    "from tensorflow.keras.layers import TimeDistributed\n",
    "from tensorflow.keras.layers import Conv1D\n",
    "from tensorflow.keras.layers import MaxPooling1D\n",
    "from tensorflow.keras.layers import ConvLSTM2D\n",
    "from sklearn.preprocessing import MinMaxScaler\n",
    "from matplotlib import pyplot as plt"
   ]
  },
  {
   "cell_type": "markdown",
   "metadata": {},
   "source": [
    "## Get Data\n"
   ]
  },
  {
   "cell_type": "code",
   "execution_count": 111,
   "metadata": {},
   "outputs": [],
   "source": [
    "# Run these pip3 installs once to install yahoo finance libraries\n",
    "# !pip3 install yahoo-finance --user\n",
    "# !pip3 install yfinance --user --upgrade --no-cache-dir\n",
    "\n",
    "import yfinance as yf\n",
    "# Documentation at https://pypi.org/project/yfinance/"
   ]
  },
  {
   "cell_type": "code",
   "execution_count": 123,
   "metadata": {
    "scrolled": true
   },
   "outputs": [
    {
     "name": "stdout",
     "output_type": "stream",
     "text": [
      "[*********************100%***********************]  29 of 29 downloaded\n"
     ]
    },
    {
     "data": {
      "text/html": [
       "<div>\n",
       "<style scoped>\n",
       "    .dataframe tbody tr th:only-of-type {\n",
       "        vertical-align: middle;\n",
       "    }\n",
       "\n",
       "    .dataframe tbody tr th {\n",
       "        vertical-align: top;\n",
       "    }\n",
       "\n",
       "    .dataframe thead th {\n",
       "        text-align: right;\n",
       "    }\n",
       "</style>\n",
       "<table border=\"1\" class=\"dataframe\">\n",
       "  <thead>\n",
       "    <tr style=\"text-align: right;\">\n",
       "      <th></th>\n",
       "      <th>Adj Close AAPL</th>\n",
       "      <th>Adj Close AXP</th>\n",
       "      <th>Adj Close BA</th>\n",
       "      <th>Adj Close CAT</th>\n",
       "      <th>Adj Close CSCO</th>\n",
       "      <th>Adj Close CVX</th>\n",
       "      <th>Adj Close DIS</th>\n",
       "      <th>Adj Close GE</th>\n",
       "      <th>Adj Close GS</th>\n",
       "      <th>Adj Close HD</th>\n",
       "      <th>...</th>\n",
       "      <th>Volume NKE</th>\n",
       "      <th>Volume PFE</th>\n",
       "      <th>Volume PG</th>\n",
       "      <th>Volume TRV</th>\n",
       "      <th>Volume UNH</th>\n",
       "      <th>Volume UTX</th>\n",
       "      <th>Volume V</th>\n",
       "      <th>Volume VZ</th>\n",
       "      <th>Volume WMT</th>\n",
       "      <th>Volume XOM</th>\n",
       "    </tr>\n",
       "    <tr>\n",
       "      <th>Date</th>\n",
       "      <th></th>\n",
       "      <th></th>\n",
       "      <th></th>\n",
       "      <th></th>\n",
       "      <th></th>\n",
       "      <th></th>\n",
       "      <th></th>\n",
       "      <th></th>\n",
       "      <th></th>\n",
       "      <th></th>\n",
       "      <th></th>\n",
       "      <th></th>\n",
       "      <th></th>\n",
       "      <th></th>\n",
       "      <th></th>\n",
       "      <th></th>\n",
       "      <th></th>\n",
       "      <th></th>\n",
       "      <th></th>\n",
       "      <th></th>\n",
       "      <th></th>\n",
       "    </tr>\n",
       "  </thead>\n",
       "  <tbody>\n",
       "    <tr>\n",
       "      <th>2014-12-03</th>\n",
       "      <td>NaN</td>\n",
       "      <td>NaN</td>\n",
       "      <td>NaN</td>\n",
       "      <td>NaN</td>\n",
       "      <td>NaN</td>\n",
       "      <td>NaN</td>\n",
       "      <td>NaN</td>\n",
       "      <td>NaN</td>\n",
       "      <td>NaN</td>\n",
       "      <td>NaN</td>\n",
       "      <td>...</td>\n",
       "      <td>NaN</td>\n",
       "      <td>NaN</td>\n",
       "      <td>NaN</td>\n",
       "      <td>NaN</td>\n",
       "      <td>NaN</td>\n",
       "      <td>NaN</td>\n",
       "      <td>NaN</td>\n",
       "      <td>NaN</td>\n",
       "      <td>NaN</td>\n",
       "      <td>NaN</td>\n",
       "    </tr>\n",
       "    <tr>\n",
       "      <th>2016-01-18</th>\n",
       "      <td>NaN</td>\n",
       "      <td>NaN</td>\n",
       "      <td>NaN</td>\n",
       "      <td>NaN</td>\n",
       "      <td>NaN</td>\n",
       "      <td>NaN</td>\n",
       "      <td>NaN</td>\n",
       "      <td>NaN</td>\n",
       "      <td>NaN</td>\n",
       "      <td>NaN</td>\n",
       "      <td>...</td>\n",
       "      <td>NaN</td>\n",
       "      <td>NaN</td>\n",
       "      <td>NaN</td>\n",
       "      <td>NaN</td>\n",
       "      <td>NaN</td>\n",
       "      <td>NaN</td>\n",
       "      <td>NaN</td>\n",
       "      <td>NaN</td>\n",
       "      <td>NaN</td>\n",
       "      <td>NaN</td>\n",
       "    </tr>\n",
       "  </tbody>\n",
       "</table>\n",
       "<p>2 rows × 174 columns</p>\n",
       "</div>"
      ],
      "text/plain": [
       "            Adj Close AAPL  Adj Close AXP  Adj Close BA  Adj Close CAT  \\\n",
       "Date                                                                     \n",
       "2014-12-03             NaN            NaN           NaN            NaN   \n",
       "2016-01-18             NaN            NaN           NaN            NaN   \n",
       "\n",
       "            Adj Close CSCO  Adj Close CVX  Adj Close DIS  Adj Close GE  \\\n",
       "Date                                                                     \n",
       "2014-12-03             NaN            NaN            NaN           NaN   \n",
       "2016-01-18             NaN            NaN            NaN           NaN   \n",
       "\n",
       "            Adj Close GS  Adj Close HD  ...  Volume NKE  Volume PFE  \\\n",
       "Date                                    ...                           \n",
       "2014-12-03           NaN           NaN  ...         NaN         NaN   \n",
       "2016-01-18           NaN           NaN  ...         NaN         NaN   \n",
       "\n",
       "            Volume PG  Volume TRV  Volume UNH  Volume UTX  Volume V  \\\n",
       "Date                                                                  \n",
       "2014-12-03        NaN         NaN         NaN         NaN       NaN   \n",
       "2016-01-18        NaN         NaN         NaN         NaN       NaN   \n",
       "\n",
       "            Volume VZ  Volume WMT  Volume XOM  \n",
       "Date                                           \n",
       "2014-12-03        NaN         NaN         NaN  \n",
       "2016-01-18        NaN         NaN         NaN  \n",
       "\n",
       "[2 rows x 174 columns]"
      ]
     },
     "execution_count": 123,
     "metadata": {},
     "output_type": "execute_result"
    }
   ],
   "source": [
    "tickers = 'mmm axp aapl ba cat cvx csco ko dis xom ge gs hd ibm intc jnj jpm mcd mrk msft nke pfe pg trv utx unh vz v wmt'\n",
    "# exclude dwdp because it's historical data only goes back 1 year\n",
    "period = '5y'\n",
    "\n",
    "data = yf.download(tickers, period=period)\n",
    "data.columns = ['%s%s' % (a, ' %s' % b if b else '') for a, b in data.columns]\n",
    "data[data.isna().any(axis=1)] #Display rows with Null values"
   ]
  },
  {
   "cell_type": "code",
   "execution_count": 124,
   "metadata": {},
   "outputs": [
    {
     "data": {
      "text/plain": [
       "(1258, 174)"
      ]
     },
     "execution_count": 124,
     "metadata": {},
     "output_type": "execute_result"
    }
   ],
   "source": [
    "data = data.drop([datetime.datetime(2016, 1, 18)])\n",
    "data = data.drop([datetime.datetime(2014, 12, 3)])\n",
    "data.shape"
   ]
  },
  {
   "cell_type": "markdown",
   "metadata": {},
   "source": [
    "## Data\n",
    "\n",
    "The data comprises of 29 stocks [mmm axp aapl ba cat cvx csco ko dis xom ge gs hd ibm intc jnj jpm mcd mrk msft nke pfe pg trv utx unh vz v wmt] over a 5 year period (end date is current date) with 252 days in a year (except 2016 whichis missing the date 2016-01-18). Each date entry has 6 variables [Adjusted Close, Close, High, Low, Open, Volume]. We are trying to predict the next day's Close. "
   ]
  },
  {
   "cell_type": "code",
   "execution_count": 125,
   "metadata": {},
   "outputs": [],
   "source": [
    "MMM = data[['Close MMM', 'High MMM', 'Low MMM', 'Open MMM', 'Volume MMM']]\n",
    "MMM.columns = ['Close', 'High', 'Low', 'Open', 'Volume']\n",
    "\n",
    "AAPL = data[['Close AAPL', 'High AAPL', 'Low AAPL', 'Open AAPL', 'Volume AAPL']]\n",
    "AAPL.columns = ['Close', 'High', 'Low', 'Open', 'Volume']\n",
    "AXP = data[['Adj Close AXP', 'Close AXP', 'High AXP', 'Low AXP', 'Open AXP', 'Volume AXP']]\n",
    "AXP.columns = ['Adj Close', 'Close', 'High', 'Low', 'Open', 'Volume']\n",
    "BA = data[['Adj Close BA', 'Close BA', 'High BA', 'Low BA', 'Open BA', 'Volume BA']]\n",
    "BA.columns = ['Adj Close', 'Close', 'High', 'Low', 'Open', 'Volume']\n",
    "CAT = data[['Adj Close CAT', 'Close CAT', 'High CAT', 'Low CAT', 'Open CAT', 'Volume CAT']]\n",
    "CAT.columns = ['Adj Close', 'Close', 'High', 'Low', 'Open', 'Volume']\n",
    "CVX = data[['Adj Close CVX', 'Close CVX', 'High CVX', 'Low CVX', 'Open CVX', 'Volume CVX']]\n",
    "CVX.columns = ['Adj Close', 'Close', 'High', 'Low', 'Open', 'Volume']\n",
    "CSCO = data[['Adj Close CSCO', 'Close CSCO', 'High CSCO', 'Low CSCO', 'Open CSCO', 'Volume CSCO']]\n",
    "CSCO.columns = ['Adj Close', 'Close', 'High', 'Low', 'Open', 'Volume']\n",
    "KO = data[['Adj Close KO', 'Close KO', 'High KO', 'Low KO', 'Open KO', 'Volume KO']]\n",
    "KO.columns = ['Adj Close', 'Close', 'High', 'Low', 'Open', 'Volume']\n",
    "DIS = data[['Adj Close DIS', 'Close DIS', 'High DIS', 'Low DIS', 'Open DIS', 'Volume DIS']]\n",
    "DIS.columns = ['Adj Close', 'Close', 'High', 'Low', 'Open', 'Volume']\n",
    "XOM = data[['Adj Close XOM', 'Close XOM', 'High XOM', 'Low XOM', 'Open XOM', 'Volume XOM']]\n",
    "XOM.columns = ['Adj Close', 'Close', 'High', 'Low', 'Open', 'Volume']\n",
    "GE = data[['Adj Close GE', 'Close GE', 'High GE', 'Low GE', 'Open GE', 'Volume GE']]\n",
    "GE.columns = ['Adj Close', 'Close', 'High', 'Low', 'Open', 'Volume']\n",
    "GS = data[['Adj Close GS', 'Close GS', 'High GS', 'Low GS', 'Open GS', 'Volume GS']]\n",
    "GS.columns = ['Adj Close', 'Close', 'High', 'Low', 'Open', 'Volume']\n",
    "HD = data[['Adj Close HD', 'Close HD', 'High HD', 'Low HD', 'Open HD', 'Volume HD']]\n",
    "HD.columns = ['Adj Close', 'Close', 'High', 'Low', 'Open', 'Volume']\n",
    "IBM = data[['Adj Close IBM', 'Close IBM', 'High AAPL', 'Low IBM', 'Open IBM', 'Volume IBM']]\n",
    "IBM.columns = ['Adj Close', 'Close', 'High', 'Low', 'Open', 'Volume']\n",
    "INTC = data[['Adj Close INTC', 'Close INTC', 'High INTC', 'Low INTC', 'Open INTC', 'Volume INTC']]\n",
    "INTC.columns = ['Adj Close', 'Close', 'High', 'Low', 'Open', 'Volume']\n",
    "JNJ = data[['Adj Close JNJ', 'Close JNJ', 'High JNJ', 'Low JNJ', 'Open JNJ', 'Volume JNJ']]\n",
    "JNJ.columns = ['Adj Close', 'Close', 'High', 'Low', 'Open', 'Volume']\n",
    "JPM = data[['Adj Close JPM', 'Close JPM', 'High JPM', 'Low JPM', 'Open JPM', 'Volume JPM']]\n",
    "JPM.columns = ['Adj Close', 'Close', 'High', 'Low', 'Open', 'Volume']\n",
    "MCD = data[['Adj Close MCD', 'Close MCD', 'High MCD', 'Low MCD', 'Open MCD', 'Volume MCD']]\n",
    "MCD.columns = ['Adj Close', 'Close', 'High', 'Low', 'Open', 'Volume']\n",
    "MRK = data[['Adj Close MRK', 'Close MRK', 'High MRK', 'Low MRK', 'Open MRK', 'Volume MRK']]\n",
    "MRK.columns = ['Adj Close', 'Close', 'High', 'Low', 'Open', 'Volume']\n",
    "MSFT = data[['Close MSFT', 'High MSFT', 'Low MSFT', 'Open MSFT', 'Volume MSFT']]\n",
    "MSFT.columns = ['Close', 'High', 'Low', 'Open', 'Volume']\n",
    "NKE = data[['Adj Close NKE', 'Close NKE', 'High NKE', 'Low NKE', 'Open NKE', 'Volume NKE']]\n",
    "NKE.columns = ['Adj Close', 'Close', 'High', 'Low', 'Open', 'Volume']\n",
    "PFE = data[['Adj Close PFE', 'Close PFE', 'High PFE', 'Low PFE', 'Open PFE', 'Volume PFE']]\n",
    "PFE.columns = ['Adj Close', 'Close', 'High', 'Low', 'Open', 'Volume']\n",
    "PG = data[['Adj Close PG', 'Close PG', 'High PG', 'Low PG', 'Open PG', 'Volume PG']]\n",
    "PG.columns = ['Adj Close', 'Close', 'High', 'Low', 'Open', 'Volume']\n",
    "TRV = data[['Adj Close TRV', 'Close TRV', 'High TRV', 'Low TRV', 'Open TRV', 'Volume TRV']]\n",
    "TRV.columns = ['Adj Close', 'Close', 'High', 'Low', 'Open', 'Volume']\n",
    "UTX = data[['Adj Close UTX', 'Close UTX', 'High UTX', 'Low UTX', 'Open UTX', 'Volume UTX']]\n",
    "UTX.columns = ['Adj Close', 'Close', 'High', 'Low', 'Open', 'Volume']\n",
    "UNH = data[['Adj Close UNH', 'Close UNH', 'High UNH', 'Low UNH', 'Open UNH', 'Volume UNH']]\n",
    "UNH.columns = ['Adj Close', 'Close', 'High', 'Low', 'Open', 'Volume']\n",
    "VZ = data[['Adj Close VZ', 'Close VZ', 'High VZ', 'Low VZ', 'Open VZ', 'Volume VZ']]\n",
    "VZ.columns = ['Adj Close', 'Close', 'High', 'Low', 'Open', 'Volume']\n",
    "V = data[['Adj Close V', 'Close V', 'High V', 'Low V', 'Open V', 'Volume V']]\n",
    "V.columns = ['Adj Close', 'Close', 'High', 'Low', 'Open', 'Volume']\n",
    "WMT = data[['Adj Close WMT', 'Close WMT', 'High WMT', 'Low WMT', 'Open WMT', 'Volume WMT']]\n",
    "WMT.columns = ['Adj Close', 'Close', 'High', 'Low', 'Open', 'Volume']"
   ]
  },
  {
   "cell_type": "code",
   "execution_count": 126,
   "metadata": {
    "scrolled": true
   },
   "outputs": [
    {
     "data": {
      "text/plain": [
       "<matplotlib.legend.Legend at 0x7f5220cc7940>"
      ]
     },
     "execution_count": 126,
     "metadata": {},
     "output_type": "execute_result"
    },
    {
     "data": {
      "image/png": "[encoded data removed]",
      "text/plain": [
       "<Figure size 1152x432 with 1 Axes>"
      ]
     },
     "metadata": {
      "needs_background": "light"
     },
     "output_type": "display_data"
    }
   ],
   "source": [
    "AAPL['Close'].plot(figsize=(16,6))\n",
    "AAPL['Open'].plot(figsize=(16,6))\n",
    "AAPL['High'].plot(figsize=(16,6))\n",
    "AAPL['Low'].plot(figsize=(16,6))\n",
    "MSFT['Close'].plot(figsize=(16,6))\n",
    "MSFT['Open'].plot(figsize=(16,6))\n",
    "MSFT['High'].plot(figsize=(16,6))\n",
    "graph1 = MSFT['Low'].plot(figsize=(16,6))\n",
    "graph1.legend(['Apple Close', 'Apple Open', 'Apple High', 'Apple Low', 'Microsoft Close', 'Microsoft Open', 'Microsoft High', 'Microsoft Low'])"
   ]
  },
  {
   "cell_type": "code",
   "execution_count": 127,
   "metadata": {},
   "outputs": [
    {
     "data": {
      "text/plain": [
       "<matplotlib.legend.Legend at 0x7f5220903748>"
      ]
     },
     "execution_count": 127,
     "metadata": {},
     "output_type": "execute_result"
    },
    {
     "data": {
      "image/png": "[encoded data removed]",
      "text/plain": [
       "<Figure size 1152x432 with 1 Axes>"
      ]
     },
     "metadata": {
      "needs_background": "light"
     },
     "output_type": "display_data"
    }
   ],
   "source": [
    "AAPL['Volume'].plot(figsize=(16,6))\n",
    "MSFT['Volume'].plot(figsize=(16,6)).legend(['Apple Volume', 'Microsoft Volume'])"
   ]
  },
  {
   "cell_type": "markdown",
   "metadata": {},
   "source": [
    "## Univariate Model"
   ]
  },
  {
   "cell_type": "code",
   "execution_count": 170,
   "metadata": {},
   "outputs": [
    {
     "name": "stdout",
     "output_type": "stream",
     "text": [
      "Train on 1003 samples\n",
      "Epoch 1/100\n",
      "1003/1003 [==============================] - 2s 2ms/sample - loss: 0.0413\n",
      "Epoch 2/100\n",
      "1003/1003 [==============================] - 0s 272us/sample - loss: 0.0024\n",
      "Epoch 3/100\n",
      "1003/1003 [==============================] - 0s 273us/sample - loss: 8.0520e-04\n",
      "Epoch 4/100\n",
      "1003/1003 [==============================] - 0s 282us/sample - loss: 7.4568e-04\n",
      "Epoch 5/100\n",
      "1003/1003 [==============================] - 0s 256us/sample - loss: 6.9468e-04\n",
      "Epoch 6/100\n",
      "1003/1003 [==============================] - 0s 266us/sample - loss: 7.0225e-04\n",
      "Epoch 7/100\n",
      "1003/1003 [==============================] - 0s 291us/sample - loss: 6.4433e-04\n",
      "Epoch 8/100\n",
      "1003/1003 [==============================] - 0s 238us/sample - loss: 6.2879e-04\n",
      "Epoch 9/100\n",
      "1003/1003 [==============================] - 0s 188us/sample - loss: 6.1882e-04\n",
      "Epoch 10/100\n",
      "1003/1003 [==============================] - 0s 220us/sample - loss: 5.7629e-04\n",
      "Epoch 11/100\n",
      "1003/1003 [==============================] - 0s 217us/sample - loss: 5.8022e-04\n",
      "Epoch 12/100\n",
      "1003/1003 [==============================] - 0s 266us/sample - loss: 5.3529e-04\n",
      "Epoch 13/100\n",
      "1003/1003 [==============================] - 0s 448us/sample - loss: 5.5570e-04\n",
      "Epoch 14/100\n",
      "1003/1003 [==============================] - 0s 372us/sample - loss: 5.4492e-04\n",
      "Epoch 15/100\n",
      "1003/1003 [==============================] - 0s 288us/sample - loss: 5.6000e-04\n",
      "Epoch 16/100\n",
      "1003/1003 [==============================] - 0s 255us/sample - loss: 5.0264e-04\n",
      "Epoch 17/100\n",
      "1003/1003 [==============================] - 0s 383us/sample - loss: 4.4365e-04\n",
      "Epoch 18/100\n",
      "1003/1003 [==============================] - 0s 364us/sample - loss: 5.0106e-04\n",
      "Epoch 19/100\n",
      "1003/1003 [==============================] - 0s 265us/sample - loss: 5.2749e-04\n",
      "Epoch 20/100\n",
      "1003/1003 [==============================] - 0s 203us/sample - loss: 5.5963e-04\n",
      "Epoch 21/100\n",
      "1003/1003 [==============================] - 0s 188us/sample - loss: 5.0329e-04\n",
      "Epoch 22/100\n",
      "1003/1003 [==============================] - 0s 207us/sample - loss: 4.4428e-04\n",
      "Epoch 23/100\n",
      "1003/1003 [==============================] - 0s 219us/sample - loss: 4.9803e-04\n",
      "Epoch 24/100\n",
      "1003/1003 [==============================] - 0s 397us/sample - loss: 4.6162e-04\n",
      "Epoch 25/100\n",
      "1003/1003 [==============================] - 0s 239us/sample - loss: 4.7168e-04\n",
      "Epoch 26/100\n",
      "1003/1003 [==============================] - 0s 217us/sample - loss: 4.7509e-04\n",
      "Epoch 27/100\n",
      "1003/1003 [==============================] - 0s 259us/sample - loss: 4.5674e-04\n",
      "Epoch 28/100\n",
      "1003/1003 [==============================] - 0s 217us/sample - loss: 4.6121e-04\n",
      "Epoch 29/100\n",
      "1003/1003 [==============================] - 0s 337us/sample - loss: 4.6447e-04\n",
      "Epoch 30/100\n",
      "1003/1003 [==============================] - 0s 342us/sample - loss: 4.8715e-04\n",
      "Epoch 31/100\n",
      "1003/1003 [==============================] - 0s 312us/sample - loss: 4.4948e-04\n",
      "Epoch 32/100\n",
      "1003/1003 [==============================] - 0s 211us/sample - loss: 4.5099e-04\n",
      "Epoch 33/100\n",
      "1003/1003 [==============================] - 0s 242us/sample - loss: 4.6745e-04\n",
      "Epoch 34/100\n",
      "1003/1003 [==============================] - 0s 400us/sample - loss: 4.0413e-04\n",
      "Epoch 35/100\n",
      "1003/1003 [==============================] - 0s 326us/sample - loss: 4.1093e-04\n",
      "Epoch 36/100\n",
      "1003/1003 [==============================] - 0s 274us/sample - loss: 4.1236e-04\n",
      "Epoch 37/100\n",
      "1003/1003 [==============================] - 0s 301us/sample - loss: 4.2599e-04\n",
      "Epoch 38/100\n",
      "1003/1003 [==============================] - 0s 293us/sample - loss: 4.2436e-04\n",
      "Epoch 39/100\n",
      "1003/1003 [==============================] - 0s 270us/sample - loss: 4.0368e-04\n",
      "Epoch 40/100\n",
      "1003/1003 [==============================] - 0s 268us/sample - loss: 3.8734e-04\n",
      "Epoch 41/100\n",
      "1003/1003 [==============================] - 0s 297us/sample - loss: 3.9629e-04\n",
      "Epoch 42/100\n",
      "1003/1003 [==============================] - 0s 272us/sample - loss: 4.0278e-04\n",
      "Epoch 43/100\n",
      "1003/1003 [==============================] - 0s 268us/sample - loss: 3.9134e-04\n",
      "Epoch 44/100\n",
      "1003/1003 [==============================] - 0s 290us/sample - loss: 4.3055e-04\n",
      "Epoch 45/100\n",
      "1003/1003 [==============================] - 0s 210us/sample - loss: 3.6712e-04\n",
      "Epoch 46/100\n",
      "1003/1003 [==============================] - 0s 210us/sample - loss: 4.3979e-04\n",
      "Epoch 47/100\n",
      "1003/1003 [==============================] - 0s 296us/sample - loss: 3.9933e-04\n",
      "Epoch 48/100\n",
      "1003/1003 [==============================] - 0s 240us/sample - loss: 3.9214e-04\n",
      "Epoch 49/100\n",
      "1003/1003 [==============================] - 0s 288us/sample - loss: 3.7036e-04\n",
      "Epoch 50/100\n",
      "1003/1003 [==============================] - 0s 282us/sample - loss: 3.9234e-04\n",
      "Epoch 51/100\n",
      "1003/1003 [==============================] - 0s 233us/sample - loss: 3.7886e-04\n",
      "Epoch 52/100\n",
      "1003/1003 [==============================] - 0s 209us/sample - loss: 3.6023e-04\n",
      "Epoch 53/100\n",
      "1003/1003 [==============================] - 0s 281us/sample - loss: 3.6179e-04\n",
      "Epoch 54/100\n",
      "1003/1003 [==============================] - 0s 366us/sample - loss: 3.8868e-04\n",
      "Epoch 55/100\n",
      "1003/1003 [==============================] - 0s 434us/sample - loss: 3.3675e-04\n",
      "Epoch 56/100\n",
      "1003/1003 [==============================] - 0s 292us/sample - loss: 3.9022e-04\n",
      "Epoch 57/100\n",
      "1003/1003 [==============================] - 0s 294us/sample - loss: 3.4824e-04\n",
      "Epoch 58/100\n",
      "1003/1003 [==============================] - 0s 397us/sample - loss: 3.6331e-04\n",
      "Epoch 59/100\n",
      "1003/1003 [==============================] - 0s 385us/sample - loss: 3.6166e-04\n",
      "Epoch 60/100\n",
      "1003/1003 [==============================] - 0s 299us/sample - loss: 3.5961e-04\n",
      "Epoch 61/100\n",
      "1003/1003 [==============================] - 0s 195us/sample - loss: 3.3848e-04\n",
      "Epoch 62/100\n",
      "1003/1003 [==============================] - 0s 208us/sample - loss: 3.5659e-04\n",
      "Epoch 63/100\n",
      "1003/1003 [==============================] - 0s 384us/sample - loss: 3.4886e-04\n",
      "Epoch 64/100\n",
      "1003/1003 [==============================] - 0s 302us/sample - loss: 3.7406e-04\n",
      "Epoch 65/100\n",
      "1003/1003 [==============================] - 0s 292us/sample - loss: 3.1573e-04\n",
      "Epoch 66/100\n",
      "1003/1003 [==============================] - 0s 206us/sample - loss: 4.0378e-04\n",
      "Epoch 67/100\n",
      "1003/1003 [==============================] - 0s 190us/sample - loss: 3.4952e-04\n",
      "Epoch 68/100\n",
      "1003/1003 [==============================] - 0s 275us/sample - loss: 3.4701e-04\n",
      "Epoch 69/100\n",
      "1003/1003 [==============================] - 0s 254us/sample - loss: 3.3424e-04\n",
      "Epoch 70/100\n",
      "1003/1003 [==============================] - 0s 251us/sample - loss: 3.4797e-04\n",
      "Epoch 71/100\n",
      "1003/1003 [==============================] - 0s 209us/sample - loss: 3.6098e-04\n",
      "Epoch 72/100\n",
      "1003/1003 [==============================] - 0s 191us/sample - loss: 3.3502e-04\n",
      "Epoch 73/100\n",
      "1003/1003 [==============================] - 0s 173us/sample - loss: 3.4443e-04\n",
      "Epoch 74/100\n",
      "1003/1003 [==============================] - 0s 176us/sample - loss: 3.4278e-04\n",
      "Epoch 75/100\n",
      "1003/1003 [==============================] - 0s 175us/sample - loss: 3.5751e-04\n",
      "Epoch 76/100\n",
      "1003/1003 [==============================] - 0s 244us/sample - loss: 3.4170e-04\n",
      "Epoch 77/100\n",
      "1003/1003 [==============================] - 0s 328us/sample - loss: 3.3257e-04\n",
      "Epoch 78/100\n",
      "1003/1003 [==============================] - 0s 331us/sample - loss: 3.1709e-04\n",
      "Epoch 79/100\n",
      "1003/1003 [==============================] - 0s 400us/sample - loss: 3.7074e-04\n",
      "Epoch 80/100\n",
      "1003/1003 [==============================] - 0s 358us/sample - loss: 3.1860e-04\n",
      "Epoch 81/100\n",
      "1003/1003 [==============================] - 0s 267us/sample - loss: 3.3283e-04\n",
      "Epoch 82/100\n",
      "1003/1003 [==============================] - 0s 373us/sample - loss: 3.2660e-04\n",
      "Epoch 83/100\n",
      "1003/1003 [==============================] - 0s 338us/sample - loss: 3.0976e-04\n",
      "Epoch 84/100\n",
      "1003/1003 [==============================] - 0s 335us/sample - loss: 3.0589e-04\n",
      "Epoch 85/100\n",
      "1003/1003 [==============================] - 0s 296us/sample - loss: 3.2909e-04\n",
      "Epoch 86/100\n",
      "1003/1003 [==============================] - 0s 270us/sample - loss: 3.2425e-04\n",
      "Epoch 87/100\n",
      "1003/1003 [==============================] - 0s 227us/sample - loss: 3.4768e-04\n",
      "Epoch 88/100\n",
      "1003/1003 [==============================] - 0s 318us/sample - loss: 3.0308e-04\n",
      "Epoch 89/100\n"
     ]
    },
    {
     "name": "stdout",
     "output_type": "stream",
     "text": [
      "1003/1003 [==============================] - 0s 328us/sample - loss: 3.5407e-04\n",
      "Epoch 90/100\n",
      "1003/1003 [==============================] - 0s 331us/sample - loss: 3.1210e-04\n",
      "Epoch 91/100\n",
      "1003/1003 [==============================] - 0s 338us/sample - loss: 3.3420e-04\n",
      "Epoch 92/100\n",
      "1003/1003 [==============================] - 0s 328us/sample - loss: 3.0376e-04\n",
      "Epoch 93/100\n",
      "1003/1003 [==============================] - 0s 340us/sample - loss: 3.3086e-04\n",
      "Epoch 94/100\n",
      "1003/1003 [==============================] - 0s 351us/sample - loss: 3.0597e-04\n",
      "Epoch 95/100\n",
      "1003/1003 [==============================] - 0s 289us/sample - loss: 3.1898e-04\n",
      "Epoch 96/100\n",
      "1003/1003 [==============================] - 0s 241us/sample - loss: 3.2869e-04\n",
      "Epoch 97/100\n",
      "1003/1003 [==============================] - 0s 246us/sample - loss: 3.2721e-04\n",
      "Epoch 98/100\n",
      "1003/1003 [==============================] - 0s 249us/sample - loss: 3.0474e-04\n",
      "Epoch 99/100\n",
      "1003/1003 [==============================] - 0s 252us/sample - loss: 3.2407e-04\n",
      "Epoch 100/100\n",
      "1003/1003 [==============================] - 0s 208us/sample - loss: 3.3000e-04\n"
     ]
    },
    {
     "data": {
      "image/png": "[encoded data removed]",
      "text/plain": [
       "<Figure size 432x288 with 1 Axes>"
      ]
     },
     "metadata": {
      "needs_background": "light"
     },
     "output_type": "display_data"
    },
    {
     "name": "stdout",
     "output_type": "stream",
     "text": [
      "RMSE: $2.5094100806826636\n"
     ]
    }
   ],
   "source": [
    "look_back = 3\n",
    "univariate_seq = AAPL['Close']\n",
    "train_percent = .8\n",
    "n_train = int(train_percent * len(univariate_seq))\n",
    "training_set = univariate_seq[:n_train]\n",
    "training_set=pd.DataFrame(training_set)\n",
    "testing_set = univariate_seq[n_train - look_back:]\n",
    "testing_set=pd.DataFrame(testing_set)\n",
    "# Feature Scaling\n",
    "sc = MinMaxScaler(feature_range = (0, 1))\n",
    "training_set_scaled = sc.fit_transform(training_set)\n",
    "X_train = []\n",
    "y_train = []\n",
    "for i in range(look_back, training_set_scaled.shape[0]):\n",
    "    X_train.append(training_set_scaled[i-look_back:i, 0])\n",
    "    y_train.append(training_set_scaled[i, 0])\n",
    "X_train, y_train = np.array(X_train), np.array(y_train)\n",
    "\n",
    "# Reshaping\n",
    "X_train = np.reshape(X_train, (X_train.shape[0], X_train.shape[1], 1))\n",
    "\n",
    "# Initialising the RNN\n",
    "regressor = Sequential()\n",
    "\n",
    "# # Adding the first LSTM layer and some Dropout regularisation\n",
    "regressor.add(LSTM(units = 70, input_shape = (X_train.shape[1], 1)))\n",
    "\n",
    "# Adding the output layer\n",
    "regressor.add(Dense(units = 1))\n",
    "\n",
    "# Compiling the RNN\n",
    "regressor.compile(loss = 'mean_squared_error')\n",
    "\n",
    "# Fitting the RNN to the Training set\n",
    "regressor.fit(X_train, y_train, epochs = 100)\n",
    "\n",
    "testing_set_scaled = sc.transform(testing_set.to_numpy().reshape(-1, 1))\n",
    "X_test = []\n",
    "for i in range(look_back, testing_set_scaled.shape[0]):\n",
    "    X_test.append(testing_set_scaled[i-look_back:i, 0])\n",
    "X_test = np.array(X_test)\n",
    "X_test = np.reshape(X_test, (X_test.shape[0], X_test.shape[1], 1))\n",
    "predicted_stock_price = regressor.predict(X_test)\n",
    "predicted_stock_price = sc.inverse_transform(predicted_stock_price)\n",
    "predicted_stock_price = pd.DataFrame(predicted_stock_price)\n",
    "\n",
    "predicted_stock_price.index = testing_set[look_back:].index\n",
    "plt.plot(predicted_stock_price)\n",
    "plt.plot(testing_set[look_back:])\n",
    "plt.show()\n",
    "rmse = np.average(np.sqrt(np.square(testing_set[look_back:].to_numpy() - predicted_stock_price.to_numpy())))\n",
    "print(\"RMSE: $\" + str(rmse))"
   ]
  },
  {
   "cell_type": "markdown",
   "metadata": {},
   "source": [
    "## Multivariate Model"
   ]
  },
  {
   "cell_type": "code",
   "execution_count": null,
   "metadata": {},
   "outputs": [],
   "source": [
    "look_back_multi = 3"
   ]
  },
  {
   "cell_type": "code",
   "execution_count": null,
   "metadata": {},
   "outputs": [],
   "source": [
    "multivariate_seq = AAPL\n",
    "train_percent = .8\n",
    "n_train = int(train_percent * len(multivariate_seq))\n",
    "training_set = multivariate_seq[:n_train]\n",
    "training_set=pd.DataFrame(training_set)\n",
    "testing_set = multivariate_seq[n_train - look_back:]\n",
    "testing_set=pd.DataFrame(testing_set)"
   ]
  },
  {
   "cell_type": "code",
   "execution_count": null,
   "metadata": {},
   "outputs": [],
   "source": [
    "# Feature Scaling\n",
    "scMultiVariate = MinMaxScaler(feature_range = (0, 1))\n",
    "training_set_scaled = scMultiVariate.fit_transform(training_set)"
   ]
  },
  {
   "cell_type": "code",
   "execution_count": null,
   "metadata": {},
   "outputs": [],
   "source": [
    "X_train = []\n",
    "y_train = []\n",
    "for i in range(look_back_multi, training_set_scaled.shape[0]):\n",
    "    X_train.append(training_set_scaled[i-look_back_multi:i, :])\n",
    "    y_train.append(training_set_scaled[i, 1])\n",
    "X_train, y_train = np.array(X_train), np.array(y_train)\n",
    "\n",
    "# Reshaping\n",
    "X_train = np.reshape(X_train, (X_train.shape[0], X_train.shape[1], 5))"
   ]
  },
  {
   "cell_type": "code",
   "execution_count": null,
   "metadata": {},
   "outputs": [],
   "source": [
    "# Initialising the RNN\n",
    "regressor = Sequential()\n",
    "\n",
    "# Adding the first LSTM layer and some Dropout regularisation\n",
    "regressor.add(LSTM(units = 50, return_sequences = True, input_shape = (X_train.shape[1], 5)))\n",
    "regressor.add(Dropout(0.2))\n",
    "\n",
    "# Adding a second LSTM layer and some Dropout regularisation\n",
    "regressor.add(LSTM(units = 50, return_sequences = True))\n",
    "regressor.add(Dropout(0.2))\n",
    "\n",
    "# Adding a third LSTM layer and some Dropout regularisation\n",
    "regressor.add(LSTM(units = 50, return_sequences = True))\n",
    "regressor.add(Dropout(0.2))\n",
    "\n",
    "# Adding a fourth LSTM layer and some Dropout regularisation\n",
    "regressor.add(LSTM(units = 50))\n",
    "regressor.add(Dropout(0.2))\n",
    "\n",
    "# Adding the output layer\n",
    "regressor.add(Dense(units = 1))"
   ]
  },
  {
   "cell_type": "code",
   "execution_count": null,
   "metadata": {},
   "outputs": [],
   "source": [
    "# Compiling the RNN\n",
    "regressor.compile(optimizer = 'adam', loss = 'mean_squared_error')\n",
    "\n",
    "# Fitting the RNN to the Training set\n",
    "regressor.fit(X_train, y_train, epochs = 10, batch_size = 32)"
   ]
  },
  {
   "cell_type": "code",
   "execution_count": null,
   "metadata": {},
   "outputs": [],
   "source": [
    "testing_set_scaled = scMultiVariate.transform(testing_set.to_numpy())\n",
    "X_test = []\n",
    "for i in range(look_back_multi, testing_set_scaled.shape[0]):\n",
    "    X_test.append(testing_set_scaled[i-look_back_multi:i, :])\n",
    "X_test = np.array(X_test)\n",
    "X_test = np.reshape(X_test, (X_test.shape[0], X_test.shape[1], 6))\n",
    "predicted_stock_price = regressor.predict(X_test)\n",
    "predicted_stock_price = scMultiVariate.inverse_transform(np.repeat(predicted_stock_price, 6, axis=1))[:, 1]\n",
    "predicted_stock_price = pd.DataFrame(predicted_stock_price)\n",
    "Y_test = testing_set['Close'][look_back_multi:]"
   ]
  },
  {
   "cell_type": "code",
   "execution_count": null,
   "metadata": {},
   "outputs": [],
   "source": [
    "predicted_stock_price.index = Y_test.index\n",
    "plt.plot(predicted_stock_price)\n",
    "plt.plot(Y_test)\n",
    "plt.show()"
   ]
  },
  {
   "cell_type": "markdown",
   "metadata": {},
   "source": [
    "## Multi-Series Univariate Model"
   ]
  },
  {
   "cell_type": "code",
   "execution_count": null,
   "metadata": {},
   "outputs": [],
   "source": [
    "look_back_uni_series = 60"
   ]
  },
  {
   "cell_type": "code",
   "execution_count": null,
   "metadata": {},
   "outputs": [],
   "source": [
    "close_columns = []\n",
    "scUniSeries = MinMaxScaler(feature_range = (0, 1))\n",
    "scUniSeries2 = MinMaxScaler(feature_range = (0, 1))\n",
    "for ind in data.columns:\n",
    "    if(('Close' in ind) & ('Adj Close' not in ind) & (('AAPL' in ind) | ('MSFT' in ind))):\n",
    "        close_columns.append(ind)\n",
    "univariate_seqs = scUniSeries.fit_transform(data[close_columns])\n",
    "univariate_sols = scUniSeries2.fit_transform(data[\"Close AAPL\"].to_numpy().reshape(-1, 1))\n",
    "train_percent = .8\n",
    "n_train = int(train_percent * len(univariate_seqs))\n",
    "training_set = univariate_seqs[:n_train]\n",
    "Y_train = univariate_sols[look_back_uni_series:n_train]\n",
    "testing_set = univariate_seqs[n_train - look_back_uni_series:]\n",
    "Y_test = univariate_sols[n_train:]"
   ]
  },
  {
   "cell_type": "code",
   "execution_count": null,
   "metadata": {},
   "outputs": [],
   "source": [
    "X_train = []\n",
    "y_train = []\n",
    "for i in range(look_back_uni_series, training_set.shape[0]):\n",
    "    X_train.append(training_set[i-look_back_uni_series:i, :])\n",
    "X_train = np.array(X_train)"
   ]
  },
  {
   "cell_type": "code",
   "execution_count": null,
   "metadata": {},
   "outputs": [],
   "source": [
    "# Initialising the RNN\n",
    "regressor = Sequential()\n",
    "\n",
    "regressor.add(TimeDistributed(Conv1D(filters=64, kernel_size=1, activation='relu'), input_shape=(None, look_back_uni_series, 2)))\n",
    "regressor.add(TimeDistributed(MaxPooling1D(pool_size=2)))\n",
    "regressor.add(TimeDistributed(Flatten()))\n",
    "regressor.add(LSTM(10, return_sequences = True, activation='relu'))\n",
    "\n",
    "# Adding the output layer\n",
    "regressor.add(Dense(units = 1))\n",
    "\n",
    "# Compiling the RNN\n",
    "regressor.compile(optimizer = 'adam', loss = 'mean_squared_error')\n",
    "\n",
    "# Fitting the RNN to the Training set\n",
    "regressor.fit(X_train.reshape(X_train.shape[0], 1, X_train.shape[1], X_train.shape[2]), Y_train, epochs = 10)\n",
    "predicted_stock_price = regressor.predict(X_train.reshape(X_train.shape[0], 1, X_train.shape[1], X_train.shape[2])).reshape(-1, 1)"
   ]
  },
  {
   "cell_type": "code",
   "execution_count": null,
   "metadata": {},
   "outputs": [],
   "source": [
    "plt.plot(scUniSeries2.inverse_transform(predicted_stock_price))\n",
    "plt.plot(scUniSeries2.inverse_transform(Y_train))\n",
    "plt.show()"
   ]
  },
  {
   "cell_type": "code",
   "execution_count": null,
   "metadata": {},
   "outputs": [],
   "source": [
    "X_test = []\n",
    "for i in range(look_back_uni_series, testing_set.shape[0]):\n",
    "    X_test.append(testing_set[i-look_back_uni_series:i, :])\n",
    "\n",
    "X_test = np.array(X_test)\n",
    "# Use the following line for convNN\n",
    "X_test = X_test.reshape(X_test.shape[0], 1, X_test.shape[1], X_test.shape[2])\n",
    "# predicted_stock_price = regressor.predict(X_test.reshape(X_test.shape[0], 1, X_test.shape[1], X_test.shape[2])).reshape(-1, 1)\n",
    "predicted_stock_price = regressor.predict(X_test).reshape(-1, 1)"
   ]
  },
  {
   "cell_type": "code",
   "execution_count": null,
   "metadata": {},
   "outputs": [],
   "source": [
    "plt.plot(scUniSeries2.inverse_transform(predicted_stock_price))\n",
    "plt.plot(scUniSeries2.inverse_transform(Y_test))\n",
    "plt.show()"
   ]
  },
  {
   "cell_type": "markdown",
   "metadata": {},
   "source": [
    "## Multi-Series Multivariate Model"
   ]
  },
  {
   "cell_type": "code",
   "execution_count": null,
   "metadata": {},
   "outputs": [],
   "source": [
    "look_back_uni_series = 15"
   ]
  },
  {
   "cell_type": "code",
   "execution_count": null,
   "metadata": {},
   "outputs": [],
   "source": [
    "close_columns = []\n",
    "for ind in data.columns:\n",
    "    if(('Adj Close' not in ind) & (('AAPL' in ind) | ('MSFT' in ind))):\n",
    "        close_columns.append(ind)\n",
    "univariate_seqs = scUniSeries.fit_transform(data[close_columns])\n",
    "univariate_sols = scUniSeries2.fit_transform(data[\"Close AAPL\"].to_numpy().reshape(-1, 1))\n",
    "train_percent = .2\n",
    "n_train = int(train_percent * len(univariate_seqs))\n",
    "training_set = univariate_seqs[:n_train]\n",
    "Y_train = univariate_sols[look_back_uni_series:n_train]\n",
    "testing_set = univariate_seqs[n_train - look_back_uni_series:]\n",
    "Y_test = univariate_sols[n_train:]"
   ]
  },
  {
   "cell_type": "code",
   "execution_count": null,
   "metadata": {},
   "outputs": [],
   "source": [
    "X_train = []\n",
    "y_train = []\n",
    "for i in range(look_back_uni_series, training_set.shape[0]):\n",
    "    X_train.append(training_set[i-look_back_uni_series:i, :])\n",
    "X_train = np.array(X_train)"
   ]
  },
  {
   "cell_type": "code",
   "execution_count": null,
   "metadata": {},
   "outputs": [],
   "source": [
    "# Initialising the RNN\n",
    "regressor = Sequential()\n",
    "\n",
    "regressor.add(TimeDistributed(Conv1D(filters=64, kernel_size=1, activation='relu'), input_shape=(None, look_back_uni_series, 10)))\n",
    "regressor.add(TimeDistributed(MaxPooling1D(pool_size=1)))\n",
    "regressor.add(TimeDistributed(Flatten()))\n",
    "regressor.add(LSTM(25, return_sequences = True, activation='relu'))\n",
    "\n",
    "# Adding a fourth LSTM layer and some Dropout regularisation\n",
    "# regressor.add(LSTM(units = 25))\n",
    "\n",
    "# Adding the output layer\n",
    "regressor.add(Dense(units = 1))\n",
    "\n",
    "# Compiling the RNN\n",
    "regressor.compile(optimizer = 'adam', loss = 'mean_squared_error')\n",
    "\n",
    "# Fitting the RNN to the Training set\n",
    "regressor.fit(X_train.reshape(X_train.shape[0], 1, X_train.shape[1], X_train.shape[2]), Y_train, epochs = 5)\n",
    "predicted_stock_price = regressor.predict(X_train.reshape(X_train.shape[0], 1, X_train.shape[1], X_train.shape[2])).reshape(-1, 1)"
   ]
  },
  {
   "cell_type": "code",
   "execution_count": null,
   "metadata": {},
   "outputs": [],
   "source": [
    "plt.plot(scUniSeries2.inverse_transform(predicted_stock_price))\n",
    "plt.plot(scUniSeries2.inverse_transform(Y_train))\n",
    "plt.show()"
   ]
  },
  {
   "cell_type": "code",
   "execution_count": null,
   "metadata": {},
   "outputs": [],
   "source": [
    "X_test = []\n",
    "for i in range(look_back_uni_series, testing_set.shape[0]):\n",
    "    X_test.append(testing_set[i-look_back_uni_series:i, :])\n",
    "\n",
    "X_test = np.array(X_test)\n",
    "# Use the following line for convNN\n",
    "X_test = X_test.reshape(X_test.shape[0], 1, X_test.shape[1], X_test.shape[2])\n",
    "# predicted_stock_price = regressor.predict(X_test.reshape(X_test.shape[0], 1, X_test.shape[1], X_test.shape[2])).reshape(-1, 1)\n",
    "predicted_stock_price = regressor.predict(X_test).reshape(-1, 1)"
   ]
  },
  {
   "cell_type": "code",
   "execution_count": null,
   "metadata": {},
   "outputs": [],
   "source": [
    "plt.plot(scUniSeries2.inverse_transform(predicted_stock_price))\n",
    "plt.plot(scUniSeries2.inverse_transform(Y_test))\n",
    "plt.show()"
   ]
  },
  {
   "cell_type": "markdown",
   "metadata": {},
   "source": [
    "## Multi-Series 2-Dimensional Multivariate Model"
   ]
  },
  {
   "cell_type": "code",
   "execution_count": null,
   "metadata": {},
   "outputs": [],
   "source": [
    "look_back_uni_series = 15"
   ]
  },
  {
   "cell_type": "code",
   "execution_count": null,
   "metadata": {},
   "outputs": [],
   "source": [
    "scUniSeries = MinMaxScaler(feature_range = (0, 1))\n",
    "scUniSeries2 = MinMaxScaler(feature_range = (0, 1))\n",
    "close_columns = []\n",
    "for ind in data.columns:\n",
    "    if(('Adj Close' not in ind) & (('AAPL' in ind) | ('MSFT' in ind))):\n",
    "        close_columns.append(ind)\n",
    "univariate_seqs = scUniSeries.fit_transform(data[close_columns])\n",
    "univariate_sols = scUniSeries2.fit_transform(data[\"Close AAPL\"].to_numpy().reshape(-1, 1))\n",
    "train_percent = .8\n",
    "n_train = int(train_percent * len(univariate_seqs))\n",
    "training_set = univariate_seqs[:n_train]\n",
    "training_set = training_set.reshape(training_set.shape[0], 1, 2, 5)\n",
    "Y_train = univariate_sols[look_back_uni_series:n_train]\n",
    "testing_set = univariate_seqs[n_train - look_back_uni_series:]\n",
    "testing_set = testing_set.reshape(testing_set.shape[0], 1, 2, 5)\n",
    "Y_test = univariate_sols[n_train:]"
   ]
  },
  {
   "cell_type": "code",
   "execution_count": null,
   "metadata": {},
   "outputs": [],
   "source": [
    "X_train = []\n",
    "y_train = []\n",
    "for i in range(look_back_uni_series, training_set.shape[0]):\n",
    "    X_train.append(training_set[i-look_back_uni_series:i, :, :])\n",
    "X_train = np.array(X_train)"
   ]
  },
  {
   "cell_type": "code",
   "execution_count": null,
   "metadata": {},
   "outputs": [],
   "source": [
    "# Initialising the RNN\n",
    "regressor = Sequential()\n",
    "regressor.add(ConvLSTM2D(filters=64, kernel_size=(1,2), activation='relu', input_shape=(look_back_uni_series, 1, 2, 5)))\n",
    "regressor.add(Flatten())\n",
    "regressor.add(Dense(1))\n",
    "\n",
    "# Compiling the RNN\n",
    "regressor.compile(optimizer = 'adam', loss = 'mean_squared_error')\n",
    "\n",
    "# Fitting the RNN to the Training set\n",
    "regressor.fit(X_train, Y_train, epochs = 5)\n",
    "predicted_stock_price = regressor.predict(X_train.reshape(X_train.shape[0], 15, 1, 2, 5)).reshape(-1, 1)"
   ]
  },
  {
   "cell_type": "code",
   "execution_count": null,
   "metadata": {},
   "outputs": [],
   "source": [
    "plt.plot(scUniSeries2.inverse_transform(predicted_stock_price))\n",
    "plt.plot(scUniSeries2.inverse_transform(Y_train))\n",
    "plt.show()"
   ]
  },
  {
   "cell_type": "code",
   "execution_count": null,
   "metadata": {},
   "outputs": [],
   "source": [
    "X_test = []\n",
    "for i in range(look_back_uni_series, testing_set.shape[0]):\n",
    "    X_test.append(testing_set[i-look_back_uni_series:i, :])\n",
    "\n",
    "X_test = np.array(X_test)\n",
    "# Use the following line for convNN\n",
    "X_test = X_test.reshape(X_test.shape[0], 15, 1, 2, 5)\n",
    "# predicted_stock_price = regressor.predict(X_test.reshape(X_test.shape[0], 1, X_test.shape[1], X_test.shape[2])).reshape(-1, 1)\n",
    "predicted_stock_price = regressor.predict(X_test).reshape(-1, 1)"
   ]
  },
  {
   "cell_type": "code",
   "execution_count": null,
   "metadata": {},
   "outputs": [],
   "source": [
    "plt.plot(scUniSeries2.inverse_transform(predicted_stock_price))\n",
    "plt.plot(scUniSeries2.inverse_transform(Y_test))\n",
    "plt.show()"
   ]
  },
  {
   "cell_type": "markdown",
   "metadata": {},
   "source": [
    "## Univariate Model With GRU"
   ]
  },
  {
   "cell_type": "code",
   "execution_count": null,
   "metadata": {},
   "outputs": [],
   "source": [
    "look_back_uni_series = 60"
   ]
  },
  {
   "cell_type": "code",
   "execution_count": null,
   "metadata": {},
   "outputs": [],
   "source": [
    "close_columns = []\n",
    "scUniSeries = MinMaxScaler(feature_range = (0, 1))\n",
    "scUniSeries2 = MinMaxScaler(feature_range = (0, 1))\n",
    "for ind in data.columns:\n",
    "    if(('Close' in ind) & ('Adj Close' not in ind) & ('AAPL' in ind)):\n",
    "        close_columns.append(ind)\n",
    "univariate_seqs = scUniSeries.fit_transform(data[close_columns])\n",
    "univariate_sols = scUniSeries2.fit_transform(data[\"Close AAPL\"].to_numpy().reshape(-1, 1))\n",
    "train_percent = .8\n",
    "n_train = int(train_percent * len(univariate_seqs))\n",
    "training_set = univariate_seqs[:n_train]\n",
    "Y_train = univariate_sols[look_back_uni_series:n_train]\n",
    "testing_set = univariate_seqs[n_train - look_back_uni_series:]\n",
    "Y_test = univariate_sols[n_train:]"
   ]
  },
  {
   "cell_type": "code",
   "execution_count": null,
   "metadata": {},
   "outputs": [],
   "source": [
    "X_train = []\n",
    "y_train = []\n",
    "for i in range(look_back_uni_series, training_set.shape[0]):\n",
    "    X_train.append(training_set[i-look_back_uni_series:i, :])\n",
    "X_train = np.array(X_train)"
   ]
  },
  {
   "cell_type": "code",
   "execution_count": null,
   "metadata": {},
   "outputs": [],
   "source": [
    "# Initialising the RNN\n",
    "regressor = Sequential()\n",
    "regressor.add(GRU(units=50, return_sequences=True, input_shape=(X_train.shape[1],1)))\n",
    "regressor.add(LSTM(10))\n",
    "regressor.add(Dense(units = 1))\n",
    "\n",
    "# Compiling the RNN\n",
    "regressor.compile(optimizer = 'adam', loss = 'mean_squared_error')\n",
    "\n",
    "# Fitting the RNN to the Training set\n",
    "regressor.fit(X_train, Y_train, epochs = 10)\n",
    "predicted_stock_price = regressor.predict(X_train).reshape(-1, 1)"
   ]
  },
  {
   "cell_type": "code",
   "execution_count": null,
   "metadata": {},
   "outputs": [],
   "source": [
    "plt.plot(scUniSeries2.inverse_transform(predicted_stock_price))\n",
    "plt.plot(scUniSeries2.inverse_transform(Y_train))\n",
    "plt.show()"
   ]
  },
  {
   "cell_type": "code",
   "execution_count": null,
   "metadata": {},
   "outputs": [],
   "source": [
    "X_test = []\n",
    "for i in range(look_back_uni_series, testing_set.shape[0]):\n",
    "    X_test.append(testing_set[i-look_back_uni_series:i, :])\n",
    "\n",
    "X_test = np.array(X_test)\n",
    "# Use the following line for convNN\n",
    "X_test = X_test\n",
    "# predicted_stock_price = regressor.predict(X_test.reshape(X_test.shape[0], 1, X_test.shape[1], X_test.shape[2])).reshape(-1, 1)\n",
    "predicted_stock_price = regressor.predict(X_test).reshape(-1, 1)"
   ]
  },
  {
   "cell_type": "code",
   "execution_count": null,
   "metadata": {},
   "outputs": [],
   "source": [
    "plt.plot(scUniSeries2.inverse_transform(predicted_stock_price))\n",
    "plt.plot(scUniSeries2.inverse_transform(Y_test))\n",
    "plt.show()"
   ]
  },
  {
   "cell_type": "markdown",
   "metadata": {},
   "source": [
    "## Multivariate Model With GRU"
   ]
  },
  {
   "cell_type": "code",
   "execution_count": null,
   "metadata": {},
   "outputs": [],
   "source": [
    "look_back_uni_series = 60"
   ]
  },
  {
   "cell_type": "code",
   "execution_count": null,
   "metadata": {},
   "outputs": [],
   "source": [
    "close_columns = []\n",
    "scUniSeries = MinMaxScaler(feature_range = (0, 1))\n",
    "scUniSeries2 = MinMaxScaler(feature_range = (0, 1))\n",
    "for ind in data.columns:\n",
    "    if(('Adj Close' not in ind) & ('AAPL' in ind)):\n",
    "        close_columns.append(ind)\n",
    "univariate_seqs = scUniSeries.fit_transform(data[close_columns])\n",
    "univariate_sols = scUniSeries2.fit_transform(data[\"Close AAPL\"].to_numpy().reshape(-1, 1))\n",
    "train_percent = .8\n",
    "n_train = int(train_percent * len(univariate_seqs))\n",
    "training_set = univariate_seqs[:n_train]\n",
    "Y_train = univariate_sols[look_back_uni_series:n_train]\n",
    "testing_set = univariate_seqs[n_train - look_back_uni_series:]\n",
    "Y_test = univariate_sols[n_train:]"
   ]
  },
  {
   "cell_type": "code",
   "execution_count": null,
   "metadata": {},
   "outputs": [],
   "source": [
    "X_train = []\n",
    "y_train = []\n",
    "for i in range(look_back_uni_series, training_set.shape[0]):\n",
    "    X_train.append(training_set[i-look_back_uni_series:i, :])\n",
    "X_train = np.array(X_train)"
   ]
  },
  {
   "cell_type": "code",
   "execution_count": null,
   "metadata": {},
   "outputs": [],
   "source": [
    "# Initialising the RNN\n",
    "regressor = Sequential()\n",
    "regressor.add(GRU(units=50, return_sequences=True, input_shape=(X_train.shape[1],5)))\n",
    "regressor.add(LSTM(10))\n",
    "regressor.add(Dense(units = 1))\n",
    "\n",
    "# Compiling the RNN\n",
    "regressor.compile(optimizer = 'adam', loss = 'mean_squared_error')\n",
    "\n",
    "# Fitting the RNN to the Training set\n",
    "regressor.fit(X_train, Y_train, epochs = 10)\n",
    "predicted_stock_price = regressor.predict(X_train).reshape(-1, 1)"
   ]
  },
  {
   "cell_type": "code",
   "execution_count": null,
   "metadata": {},
   "outputs": [],
   "source": [
    "plt.plot(scUniSeries2.inverse_transform(predicted_stock_price))\n",
    "plt.plot(scUniSeries2.inverse_transform(Y_train))\n",
    "plt.show()"
   ]
  },
  {
   "cell_type": "code",
   "execution_count": null,
   "metadata": {},
   "outputs": [],
   "source": [
    "X_test = []\n",
    "for i in range(look_back_uni_series, testing_set.shape[0]):\n",
    "    X_test.append(testing_set[i-look_back_uni_series:i, :])\n",
    "\n",
    "X_test = np.array(X_test)\n",
    "# Use the following line for convNN\n",
    "X_test = X_test\n",
    "# predicted_stock_price = regressor.predict(X_test.reshape(X_test.shape[0], 1, X_test.shape[1], X_test.shape[2])).reshape(-1, 1)\n",
    "predicted_stock_price = regressor.predict(X_test).reshape(-1, 1)"
   ]
  },
  {
   "cell_type": "code",
   "execution_count": null,
   "metadata": {},
   "outputs": [],
   "source": [
    "plt.plot(scUniSeries2.inverse_transform(predicted_stock_price))\n",
    "plt.plot(scUniSeries2.inverse_transform(Y_test))\n",
    "plt.show()"
   ]
  }
 ],
 "metadata": {
  "kernelspec": {
   "display_name": "Python 3",
   "language": "python",
   "name": "python3"
  },
  "language_info": {
   "codemirror_mode": {
    "name": "ipython",
    "version": 3
   },
   "file_extension": ".py",
   "mimetype": "text/x-python",
   "name": "python",
   "nbconvert_exporter": "python",
   "pygments_lexer": "ipython3",
   "version": "3.7.3"
  }
 },
 "nbformat": 4,
 "nbformat_minor": 2
}
